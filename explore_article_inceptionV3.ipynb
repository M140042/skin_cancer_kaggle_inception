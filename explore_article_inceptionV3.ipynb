{
 "cells": [
  {
   "cell_type": "markdown",
   "metadata": {},
   "source": [
    "# Building Skin cancer classification using transfer learning \n",
    "# (Inception V3)"
   ]
  },
  {
   "cell_type": "markdown",
   "metadata": {},
   "source": [
    "## Article reference\n",
    "\n",
    "- https://www.nature.com/articles/nature21056.epdf?author_access_token=8oxIcYWf5UNrNpHsUHd2StRgN0jAjWel9jnR3ZoTv0NXpMHRAJy8Qn10ys2O4tuPakXos4UhQAFZ750CsBNMMsISFHIKinKDMKjShCpHIlYPYUHhNzkn6pSnOCt0Ftf6&fbclid=IwAR3ySc4WozYU5qyZ6wU43PIzv2JioHtyHBnnr79fLagdP74sp7BOf_j-ynw\n"
   ]
  },
  {
   "cell_type": "code",
   "execution_count": 1,
   "metadata": {},
   "outputs": [
    {
     "name": "stderr",
     "output_type": "stream",
     "text": [
      "C:\\Users\\Admin\\Anaconda3\\lib\\site-packages\\h5py\\__init__.py:34: FutureWarning: Conversion of the second argument of issubdtype from `float` to `np.floating` is deprecated. In future, it will be treated as `np.float64 == np.dtype(float).type`.\n",
      "  from ._conv import register_converters as _register_converters\n",
      "Using TensorFlow backend.\n"
     ]
    }
   ],
   "source": [
    "import matplotlib.pyplot as plt\n",
    "%matplotlib inline\n",
    "import numpy as np\n",
    "import pandas as pd\n",
    "import os\n",
    "from glob import glob\n",
    "from PIL import Image\n",
    "import itertools\n",
    "import time\n",
    "\n",
    "from sklearn.metrics import confusion_matrix\n",
    "from sklearn.utils.class_weight import compute_class_weight\n",
    "from sklearn.model_selection import train_test_split\n",
    "\n",
    "import keras\n",
    "from keras.models import Sequential\n",
    "from keras import backend as K\n",
    "from keras.layers.normalization import BatchNormalization\n",
    "\n",
    "from keras.optimizers import Adam\n",
    "from keras.preprocessing.image import ImageDataGenerator\n",
    "from keras.callbacks import ReduceLROnPlateau\n",
    "\n",
    "from keras.preprocessing import image\n",
    "\n",
    "# Import google inception v3 as pre-trained model for transfer learning\n",
    "from keras.applications.inception_v3 import InceptionV3\n",
    "from keras.applications.inception_v3 import preprocess_input\n",
    "\n",
    "# Keras layer utilities\n",
    "from keras.layers import GlobalAveragePooling2D, Dense, Dropout,Flatten, Conv2D\n",
    "from keras.layers import Input\n",
    "from keras.models import Model\n",
    "from keras import optimizers\n",
    "from keras.regularizers import l2\n",
    "\n",
    "from keras.callbacks import TensorBoard\n",
    "from keras.models import load_model\n",
    "\n",
    "import warnings\n",
    "warnings.filterwarnings('ignore')\n",
    "\n",
    "from sklearn import metrics \n",
    "np.random.seed(123)"
   ]
  },
  {
   "cell_type": "code",
   "execution_count": 2,
   "metadata": {},
   "outputs": [
    {
     "name": "stdout",
     "output_type": "stream",
     "text": [
      "[name: \"/device:CPU:0\"\n",
      "device_type: \"CPU\"\n",
      "memory_limit: 268435456\n",
      "locality {\n",
      "}\n",
      "incarnation: 14519677774397083402\n",
      ", name: \"/device:GPU:0\"\n",
      "device_type: \"GPU\"\n",
      "memory_limit: 1500636774\n",
      "locality {\n",
      "  bus_id: 1\n",
      "}\n",
      "incarnation: 15656117348654121559\n",
      "physical_device_desc: \"device: 0, name: GeForce 940MX, pci bus id: 0000:01:00.0, compute capability: 5.0\"\n",
      "]\n"
     ]
    }
   ],
   "source": [
    "from tensorflow.python.client import device_lib\n",
    "print(device_lib.list_local_devices())"
   ]
  },
  {
   "cell_type": "markdown",
   "metadata": {},
   "source": [
    "##### Data preparation"
   ]
  },
  {
   "cell_type": "code",
   "execution_count": 4,
   "metadata": {},
   "outputs": [
    {
     "data": {
      "text/html": [
       "<div>\n",
       "<style>\n",
       "    .dataframe thead tr:only-child th {\n",
       "        text-align: right;\n",
       "    }\n",
       "\n",
       "    .dataframe thead th {\n",
       "        text-align: left;\n",
       "    }\n",
       "\n",
       "    .dataframe tbody tr th {\n",
       "        vertical-align: top;\n",
       "    }\n",
       "</style>\n",
       "<table border=\"1\" class=\"dataframe\">\n",
       "  <thead>\n",
       "    <tr style=\"text-align: right;\">\n",
       "      <th></th>\n",
       "      <th>lesion_id</th>\n",
       "      <th>image_id</th>\n",
       "      <th>dx</th>\n",
       "      <th>dx_type</th>\n",
       "      <th>age</th>\n",
       "      <th>sex</th>\n",
       "      <th>localization</th>\n",
       "      <th>path</th>\n",
       "      <th>cell_type</th>\n",
       "      <th>cell_type_idx</th>\n",
       "    </tr>\n",
       "  </thead>\n",
       "  <tbody>\n",
       "    <tr>\n",
       "      <th>0</th>\n",
       "      <td>HAM_0000118</td>\n",
       "      <td>ISIC_0027419</td>\n",
       "      <td>bkl</td>\n",
       "      <td>histo</td>\n",
       "      <td>80.0</td>\n",
       "      <td>male</td>\n",
       "      <td>scalp</td>\n",
       "      <td>None</td>\n",
       "      <td>Benign keratosis-like lesions</td>\n",
       "      <td>2</td>\n",
       "    </tr>\n",
       "    <tr>\n",
       "      <th>1</th>\n",
       "      <td>HAM_0000118</td>\n",
       "      <td>ISIC_0025030</td>\n",
       "      <td>bkl</td>\n",
       "      <td>histo</td>\n",
       "      <td>80.0</td>\n",
       "      <td>male</td>\n",
       "      <td>scalp</td>\n",
       "      <td>None</td>\n",
       "      <td>Benign keratosis-like lesions</td>\n",
       "      <td>2</td>\n",
       "    </tr>\n",
       "    <tr>\n",
       "      <th>2</th>\n",
       "      <td>HAM_0002730</td>\n",
       "      <td>ISIC_0026769</td>\n",
       "      <td>bkl</td>\n",
       "      <td>histo</td>\n",
       "      <td>80.0</td>\n",
       "      <td>male</td>\n",
       "      <td>scalp</td>\n",
       "      <td>None</td>\n",
       "      <td>Benign keratosis-like lesions</td>\n",
       "      <td>2</td>\n",
       "    </tr>\n",
       "    <tr>\n",
       "      <th>3</th>\n",
       "      <td>HAM_0002730</td>\n",
       "      <td>ISIC_0025661</td>\n",
       "      <td>bkl</td>\n",
       "      <td>histo</td>\n",
       "      <td>80.0</td>\n",
       "      <td>male</td>\n",
       "      <td>scalp</td>\n",
       "      <td>None</td>\n",
       "      <td>Benign keratosis-like lesions</td>\n",
       "      <td>2</td>\n",
       "    </tr>\n",
       "    <tr>\n",
       "      <th>4</th>\n",
       "      <td>HAM_0001466</td>\n",
       "      <td>ISIC_0031633</td>\n",
       "      <td>bkl</td>\n",
       "      <td>histo</td>\n",
       "      <td>75.0</td>\n",
       "      <td>male</td>\n",
       "      <td>ear</td>\n",
       "      <td>None</td>\n",
       "      <td>Benign keratosis-like lesions</td>\n",
       "      <td>2</td>\n",
       "    </tr>\n",
       "  </tbody>\n",
       "</table>\n",
       "</div>"
      ],
      "text/plain": [
       "     lesion_id      image_id   dx dx_type   age   sex localization  path  \\\n",
       "0  HAM_0000118  ISIC_0027419  bkl   histo  80.0  male        scalp  None   \n",
       "1  HAM_0000118  ISIC_0025030  bkl   histo  80.0  male        scalp  None   \n",
       "2  HAM_0002730  ISIC_0026769  bkl   histo  80.0  male        scalp  None   \n",
       "3  HAM_0002730  ISIC_0025661  bkl   histo  80.0  male        scalp  None   \n",
       "4  HAM_0001466  ISIC_0031633  bkl   histo  75.0  male          ear  None   \n",
       "\n",
       "                        cell_type  cell_type_idx  \n",
       "0  Benign keratosis-like lesions               2  \n",
       "1  Benign keratosis-like lesions               2  \n",
       "2  Benign keratosis-like lesions               2  \n",
       "3  Benign keratosis-like lesions               2  \n",
       "4  Benign keratosis-like lesions               2  "
      ]
     },
     "execution_count": 4,
     "metadata": {},
     "output_type": "execute_result"
    }
   ],
   "source": [
    "base_skin_dir = r'.input'\n",
    "\n",
    "# Merging images from both folders HAM10000_images_part1.zip and HAM10000_images_part2.zip into one dictionary\n",
    "\n",
    "imageid_path_dict = {os.path.splitext(os.path.basename(x))[0]: x\n",
    "                     for x in glob(os.path.join(base_skin_dir, '*', '*.jpg'))}\n",
    "\n",
    "base_skin_dir = os.path.join('input')\n",
    "\n",
    "# This dictionary is useful for displaying more human-friendly labels later on\n",
    "\n",
    "lesion_type_dict = {\n",
    "    'nv': 'Melanocytic nevi',\n",
    "    'mel': 'Melanoma',\n",
    "    'bkl': 'Benign keratosis-like lesions ',\n",
    "    'bcc': 'Basal cell carcinoma',\n",
    "    'akiec': 'Actinic keratoses',\n",
    "    'vasc': 'Vascular lesions',\n",
    "    'df': 'Dermatofibroma'\n",
    "}\n",
    "\n",
    "\n",
    "skin_df = pd.read_csv(os.path.join(base_skin_dir, 'HAM10000_metadata.csv'))\n",
    "\n",
    "# Creating New Columns for better readability\n",
    "\n",
    "skin_df['path'] = skin_df['image_id'].map(imageid_path_dict.get)\n",
    "skin_df['cell_type'] = skin_df['dx'].map(lesion_type_dict.get) \n",
    "skin_df['cell_type_idx'] = pd.Categorical(skin_df['cell_type']).codes\n",
    "skin_df.head()\n",
    "\n"
   ]
  },
  {
   "cell_type": "code",
   "execution_count": 5,
   "metadata": {},
   "outputs": [
    {
     "data": {
      "text/plain": [
       "lesion_id            0\n",
       "image_id             0\n",
       "dx                   0\n",
       "dx_type              0\n",
       "age                 57\n",
       "sex                  0\n",
       "localization         0\n",
       "path             10015\n",
       "cell_type            0\n",
       "cell_type_idx        0\n",
       "dtype: int64"
      ]
     },
     "execution_count": 5,
     "metadata": {},
     "output_type": "execute_result"
    }
   ],
   "source": [
    "# Step 4 : Data Cleaning\n",
    "# In this step we check for Missing values and datatype of each field\n",
    "skin_df.isnull().sum()\n"
   ]
  },
  {
   "cell_type": "code",
   "execution_count": 7,
   "metadata": {},
   "outputs": [
    {
     "data": {
      "text/plain": [
       "lesion_id            0\n",
       "image_id             0\n",
       "dx                   0\n",
       "dx_type              0\n",
       "age                  0\n",
       "sex                  0\n",
       "localization         0\n",
       "path             10015\n",
       "cell_type            0\n",
       "cell_type_idx        0\n",
       "dtype: int64"
      ]
     },
     "execution_count": 7,
     "metadata": {},
     "output_type": "execute_result"
    }
   ],
   "source": [
    "# As it is evident from the above that only age has null values which is 57 so we will fill the null values by their mean.\n",
    "skin_df['age'].fillna((skin_df['age'].mean()), inplace=True)\n",
    "\n",
    "skin_df.isnull().sum()\n"
   ]
  },
  {
   "cell_type": "code",
   "execution_count": 8,
   "metadata": {},
   "outputs": [],
   "source": [
    "#skin_df['image'] = skin_df['path'].map(lambda x: np.asarray(Image.open(x).resize((299,299))))\n",
    "\n",
    "features=skin_df.drop('cell_type_idx',axis=1)\n",
    "target=skin_df['cell_type_idx']"
   ]
  },
  {
   "cell_type": "code",
   "execution_count": 5,
   "metadata": {},
   "outputs": [],
   "source": [
    "# Train test split\n",
    "x_train_o, x_test_o, y_train_o, y_test_o = train_test_split(\n",
    "        features, target, test_size=0.20,random_state=1234)"
   ]
  },
  {
   "cell_type": "markdown",
   "metadata": {},
   "source": [
    "##### Split images for usage in flow_from_directory "
   ]
  },
  {
   "cell_type": "code",
   "execution_count": 10,
   "metadata": {},
   "outputs": [
    {
     "name": "stdout",
     "output_type": "stream",
     "text": [
      "Done with moving in 104.954081s\n"
     ]
    }
   ],
   "source": [
    "# Split images for usage in flow_from_directory \n",
    "import shutil\n",
    "from time import time\n",
    "\n",
    "def images_mover(base_path, classes_list, images_path, images_class):\n",
    "    ''' create directories for the usage of keras flow_from_directory\n",
    "    Args\n",
    "    ====\n",
    "    base_path : \n",
    "    classes_list : (list) classes of current training data, folders will be created for each classes\n",
    "    images_path : (series) series that contains the path of all images\n",
    "    images_class : (series) series that contains the corresponding class for each images in images_path\n",
    "    \n",
    "    Returns\n",
    "    =======\n",
    "    None\n",
    "    \n",
    "    '''\n",
    "    for cl in classes_list:\n",
    "        os.mkdir(f'{base_path}/{cl}')\n",
    "    \n",
    "    t = time()\n",
    "    for idx,file in enumerate(images_path):\n",
    "        #print(file)\n",
    "        cl = images_class.iloc[idx]\n",
    "        new_dir = f'{base_path}/{cl}'\n",
    "        shutil.copy(file, new_dir)\n",
    "        #print(file+\" move to \"+ new_dir)\n",
    "        \n",
    "    print(\"Done with moving in %fs\"%(time()-t))\n",
    "\n",
    "os.mkdir('input/training')\n",
    "os.mkdir('input/testing')\n",
    "\n",
    "images_mover(base_path='input/training', classes_list=skin_df['cell_type_idx'].unique(),\n",
    "             images_path=x_train_o['path'], images_class=y_train_o)"
   ]
  },
  {
   "cell_type": "code",
   "execution_count": 11,
   "metadata": {},
   "outputs": [
    {
     "name": "stdout",
     "output_type": "stream",
     "text": [
      "Done with moving in 26.417501s\n"
     ]
    }
   ],
   "source": [
    "images_mover(base_path='input/testing', classes_list=skin_df['cell_type_idx'].unique(),\n",
    "             images_path=x_test_o['path'], images_class=y_test_o)"
   ]
  },
  {
   "cell_type": "markdown",
   "metadata": {},
   "source": [
    "## EDA"
   ]
  },
  {
   "cell_type": "code",
   "execution_count": 13,
   "metadata": {},
   "outputs": [
    {
     "data": {
      "text/html": [
       "<div>\n",
       "<style>\n",
       "    .dataframe thead tr:only-child th {\n",
       "        text-align: right;\n",
       "    }\n",
       "\n",
       "    .dataframe thead th {\n",
       "        text-align: left;\n",
       "    }\n",
       "\n",
       "    .dataframe tbody tr th {\n",
       "        vertical-align: top;\n",
       "    }\n",
       "</style>\n",
       "<table border=\"1\" class=\"dataframe\">\n",
       "  <thead>\n",
       "    <tr style=\"text-align: right;\">\n",
       "      <th></th>\n",
       "      <th>path</th>\n",
       "    </tr>\n",
       "    <tr>\n",
       "      <th>cell_type_idx</th>\n",
       "      <th></th>\n",
       "    </tr>\n",
       "  </thead>\n",
       "  <tbody>\n",
       "    <tr>\n",
       "      <th>0</th>\n",
       "      <td>327</td>\n",
       "    </tr>\n",
       "    <tr>\n",
       "      <th>1</th>\n",
       "      <td>514</td>\n",
       "    </tr>\n",
       "    <tr>\n",
       "      <th>2</th>\n",
       "      <td>1099</td>\n",
       "    </tr>\n",
       "    <tr>\n",
       "      <th>3</th>\n",
       "      <td>115</td>\n",
       "    </tr>\n",
       "    <tr>\n",
       "      <th>4</th>\n",
       "      <td>6705</td>\n",
       "    </tr>\n",
       "    <tr>\n",
       "      <th>5</th>\n",
       "      <td>1113</td>\n",
       "    </tr>\n",
       "    <tr>\n",
       "      <th>6</th>\n",
       "      <td>142</td>\n",
       "    </tr>\n",
       "  </tbody>\n",
       "</table>\n",
       "</div>"
      ],
      "text/plain": [
       "               path\n",
       "cell_type_idx      \n",
       "0               327\n",
       "1               514\n",
       "2              1099\n",
       "3               115\n",
       "4              6705\n",
       "5              1113\n",
       "6               142"
      ]
     },
     "execution_count": 13,
     "metadata": {},
     "output_type": "execute_result"
    }
   ],
   "source": [
    "skin_df.groupby('cell_type_idx').agg({\"path\":'count'})"
   ]
  },
  {
   "cell_type": "markdown",
   "metadata": {},
   "source": [
    "4th class have the most examples"
   ]
  },
  {
   "cell_type": "code",
   "execution_count": 14,
   "metadata": {},
   "outputs": [
    {
     "data": {
      "text/plain": [
       "(10015, 10)"
      ]
     },
     "execution_count": 14,
     "metadata": {},
     "output_type": "execute_result"
    }
   ],
   "source": [
    "skin_df.shape"
   ]
  },
  {
   "cell_type": "code",
   "execution_count": 11,
   "metadata": {},
   "outputs": [
    {
     "data": {
      "text/plain": [
       "<matplotlib.axes._subplots.AxesSubplot at 0x28c746f3cf8>"
      ]
     },
     "execution_count": 11,
     "metadata": {},
     "output_type": "execute_result"
    },
    {
     "data": {
      "image/png": "[encoded data removed]",
      "text/plain": [
       "<Figure size 432x288 with 1 Axes>"
      ]
     },
     "metadata": {},
     "output_type": "display_data"
    }
   ],
   "source": [
    "skin_df['age'].hist(bins=40)"
   ]
  },
  {
   "cell_type": "markdown",
   "metadata": {},
   "source": [
    "=> Larger instances of patients having age from 30 to 60."
   ]
  },
  {
   "cell_type": "markdown",
   "metadata": {},
   "source": [
    "## Building keras model"
   ]
  },
  {
   "cell_type": "code",
   "execution_count": 2,
   "metadata": {},
   "outputs": [],
   "source": [
    "''' \n",
    "Image Augmentation --> instantiate generators of augmented image batches\n",
    "\n",
    "I followed the pre-processing technique from nature article, i.e. random rotation and random vertical flip.\n",
    "''' \n",
    "\n",
    "# image augmentation for training set\n",
    "train_datagen = image.ImageDataGenerator(rescale=1./255,\n",
    "                                         rotation_range = 359,\n",
    "                                         vertical_flip=True) # randomly flip images\n",
    "\n",
    "# image augmentation for training set\n",
    "test_datagen = image.ImageDataGenerator(rescale=1./255)"
   ]
  },
  {
   "cell_type": "code",
   "execution_count": 3,
   "metadata": {},
   "outputs": [
    {
     "name": "stdout",
     "output_type": "stream",
     "text": [
      "Found 8012 images belonging to 7 classes.\n",
      "Found 2003 images belonging to 7 classes.\n"
     ]
    }
   ],
   "source": [
    "training_batch_size = 8\n",
    "validation_batch_size = 8\n",
    "\n",
    "train_generator = train_datagen.flow_from_directory(\n",
    "        r'input\\training',\n",
    "        target_size = (299, 299),\n",
    "        batch_size = training_batch_size,\n",
    "        class_mode = 'categorical')\n",
    "\n",
    "validation_generator = test_datagen.flow_from_directory(\n",
    "        r'input\\testing',\n",
    "        target_size = (299, 299),\n",
    "        batch_size = validation_batch_size,\n",
    "        class_mode = 'categorical')"
   ]
  },
  {
   "cell_type": "code",
   "execution_count": 10,
   "metadata": {},
   "outputs": [],
   "source": [
    "#''' We use ADAM with epsilon set to 0.1 '''\n",
    "## epsilon for Inception network on ImageNet can be tuned to either 1 or 0.1 \n",
    "## suggested by: https://machinelearningmastery.com/adam-optimization-algorithm-for-deep-learning/\n",
    "#adam = optimizers.Adam(epsilon = 0.1) \n",
    "\n",
    "'''\n",
    "Why SGD?:\n",
    "    1. Fine tune in a very slow learning rate\n",
    "    2. This is to make sure that the magnitude of the updates stays very small, \n",
    "       so as not to wreck the previously learned features\n",
    "    \n",
    "Links:\n",
    "------\n",
    "    https://blog.keras.io/building-powerful-image-classification-models-using-very-little-data.html\n",
    "    http://ruder.io/optimizing-gradient-descent/index.html#rmsprop\n",
    "    ADAM = RMSProp + momentum. https://www.dlology.com/blog/quick-notes-on-how-to-choose-optimizer-in-keras/\n",
    "'''\n",
    "adam = optimizers.Adam(lr=0.001, epsilon = 0.1, decay=0.9) \n",
    "\n",
    "rmsprop = optimizers.RMSprop(lr=0.001, rho=0.9, epsilon=0.1, decay=0.9)\n",
    "#optimizers.RMSprop(lr=0.001, rho=0.9, epsilon=0.1, decay=0.9)\n",
    "#optimizers.Adam(lr=0.001, epsilon = 0.1, decay=0.9) "
   ]
  },
  {
   "cell_type": "code",
   "execution_count": 13,
   "metadata": {},
   "outputs": [],
   "source": [
    "# Custom mertrics to calculate f1-score, recall, and precision after each epoch\n",
    "class Metrics(keras.callbacks.Callback):\n",
    "    def on_train_begin(self, logs={}):\n",
    "        self.val_f1s = []  \n",
    "        self.val_recalls = []\n",
    "        self.val_precisions = []\n",
    "\n",
    "    def on_epoch_end(self, epoch, logs={}):\n",
    "        test_steps_per_epoch = np.math.ceil(validation_generator.samples / validation_generator.batch_size)\n",
    "        predictions = self.model.predict_generator(validation_generator, steps=test_steps_per_epoch)\n",
    "        # Get most likely class\n",
    "        predicted_classes = np.argmax(predictions, axis=1)\n",
    "        true_classes = validation_generator.classes\n",
    "        class_labels = list(validation_generator.class_indices.keys())   \n",
    "        precisions, recall, f1_score, _ = metrics.precision_recall_fscore_support(\n",
    "                                            true_classes, predicted_classes)\n",
    "        _val_f1 = np.mean(f1_score)\n",
    "        _val_recall = np.mean(recall)\n",
    "        _val_precision = np.mean(precisions)\n",
    "        \n",
    "        self.val_f1s.append(_val_f1)\n",
    "        self.val_recalls.append(_val_recall)\n",
    "        self.val_precisions.append(_val_precision)\n",
    "        \n",
    "        print(\"— val_f1: %f — val_precision: %f — val_recall %f\" %(_val_f1, _val_precision, _val_recall))\n",
    "        return\n",
    "\n",
    "\n",
    "metric = Metrics()"
   ]
  },
  {
   "cell_type": "code",
   "execution_count": 57,
   "metadata": {},
   "outputs": [
    {
     "name": "stdout",
     "output_type": "stream",
     "text": [
      "Epoch 1/5\n",
      "1001/1001 [==============================] - 577s 577ms/step - loss: 0.9880 - acc: 0.6725 - val_loss: 1.5246 - val_acc: 0.6590\n",
      "— val_f1: 0.114527 — val_precision: 0.110131 — val_recall 0.142897\n",
      "Epoch 2/5\n",
      "1001/1001 [==============================] - 1254s 1s/step - loss: 0.9035 - acc: 0.6919 - val_loss: 2.0071 - val_acc: 0.6596\n",
      "— val_f1: 0.115231 — val_precision: 0.113135 — val_recall 0.142720\n",
      "Epoch 3/5\n",
      "1001/1001 [==============================] - 2481s 2s/step - loss: 0.8745 - acc: 0.6983 - val_loss: 1.8769 - val_acc: 0.6612\n",
      "— val_f1: 0.114563 — val_precision: 0.237116 — val_recall 0.142897\n",
      "Epoch 4/5\n",
      "1001/1001 [==============================] - 1514s 2s/step - loss: 0.8510 - acc: 0.7033 - val_loss: 2.1138 - val_acc: 0.6617\n",
      "— val_f1: 0.113268 — val_precision: 0.094162 — val_recall 0.142100\n",
      "Epoch 5/5\n",
      "1001/1001 [==============================] - 2358s 2s/step - loss: 0.8401 - acc: 0.7119 - val_loss: 1.9019 - val_acc: 0.6612\n",
      "— val_f1: 0.117994 — val_precision: 0.122698 — val_recall 0.143380\n"
     ]
    }
   ],
   "source": [
    "''' \n",
    "    References:\n",
    "    \n",
    "    - https://blog.keras.io/building-powerful-image-classification-models-using-very-little-data.html\n",
    "    - https://medium.com/@thongonary/how-to-compute-f1-score-for-each-epoch-in-keras-a1acd17715a2?fbclid=IwAR1rg9o6Q2fW40fdyhu4Xu9Dp_C6aNIKy3yT-cf4wb35B-gT8P607s5-Qkw\n",
    "    - https://keras.io/applications/?fbclid=IwAR07i9klCgeBoICY_w5mIP7MRxyXviwUi_rzFNo4nvnC5pLez8zzK-c_SpI\n",
    "'''\n",
    "\n",
    "base_model = InceptionV3(weights='imagenet', include_top=False)\n",
    "x = base_model.output\n",
    "x = GlobalAveragePooling2D()(x)\n",
    "out = Dense(7, activation='softmax')(x)\n",
    "\n",
    "\n",
    "\n",
    "''' Freeze all the layers (except output layer) of the base model '''\n",
    "# first: train only the top layers (which were randomly initialized)\n",
    "# i.e. freeze all convolutional InceptionV3 layers\n",
    "for layer in base_model.layers:\n",
    "    # By default, layer.trainable = True (we must set to False to freeze the weights)\n",
    "    layer.trainable = False\n",
    "\n",
    "# compile the model (should be done *after* setting layers to non-trainable)\n",
    "# reference: https://stackoverflow.com/questions/43547402/how-to-calculate-f1-macro-in-keras\n",
    "custom_v3_model = Model(inputs = base_model.input, outputs = out)\n",
    "#custom_v3_model.summary()\n",
    "\n",
    "custom_v3_model.compile(loss = 'categorical_crossentropy',\n",
    "                        optimizer = 'rmsprop', \n",
    "                        metrics = ['accuracy'])\n",
    "start = time.time()\n",
    "class_weight = compute_class_weight('balanced',np.unique(train_generator.classes),train_generator.classes)\n",
    "hist_1 = custom_v3_model.fit_generator(\n",
    "            train_generator,\n",
    "            # use floor devision to get integer for the final value\n",
    "            steps_per_epoch = train_generator.samples // training_batch_size,\n",
    "            epochs = 5,\n",
    "            validation_data = validation_generator,\n",
    "            validation_steps = validation_generator.samples // validation_batch_size,\n",
    "            class_weight=class_weight,\n",
    "            callbacks=[metric])\n"
   ]
  },
  {
   "cell_type": "code",
   "execution_count": 58,
   "metadata": {},
   "outputs": [],
   "source": [
    "'''\n",
    "--> Save the model (trained output layers) into a single HDF5 file\n",
    "---> Load this pre-trained model next time before going to the steps below!!!\n",
    "'''\n",
    "\n",
    "custom_v3_model.save(r'model\\model_first_5_epo.h5')\n"
   ]
  },
  {
   "cell_type": "code",
   "execution_count": 5,
   "metadata": {},
   "outputs": [],
   "source": [
    "custom_v3_model = load_model(r'model\\model_first_5_epo.h5')"
   ]
  },
  {
   "cell_type": "code",
   "execution_count": 6,
   "metadata": {},
   "outputs": [
    {
     "name": "stdout",
     "output_type": "stream",
     "text": [
      "0 input_1\n",
      "1 conv2d_1\n",
      "2 batch_normalization_1\n",
      "3 activation_1\n",
      "4 conv2d_2\n",
      "5 batch_normalization_2\n",
      "6 activation_2\n",
      "7 conv2d_3\n",
      "8 batch_normalization_3\n",
      "9 activation_3\n",
      "10 max_pooling2d_1\n",
      "11 conv2d_4\n",
      "12 batch_normalization_4\n",
      "13 activation_4\n",
      "14 conv2d_5\n",
      "15 batch_normalization_5\n",
      "16 activation_5\n",
      "17 max_pooling2d_2\n",
      "18 conv2d_9\n",
      "19 batch_normalization_9\n",
      "20 activation_9\n",
      "21 conv2d_7\n",
      "22 conv2d_10\n",
      "23 batch_normalization_7\n",
      "24 batch_normalization_10\n",
      "25 activation_7\n",
      "26 activation_10\n",
      "27 average_pooling2d_1\n",
      "28 conv2d_6\n",
      "29 conv2d_8\n",
      "30 conv2d_11\n",
      "31 conv2d_12\n",
      "32 batch_normalization_6\n",
      "33 batch_normalization_8\n",
      "34 batch_normalization_11\n",
      "35 batch_normalization_12\n",
      "36 activation_6\n",
      "37 activation_8\n",
      "38 activation_11\n",
      "39 activation_12\n",
      "40 mixed0\n",
      "41 conv2d_16\n",
      "42 batch_normalization_16\n",
      "43 activation_16\n",
      "44 conv2d_14\n",
      "45 conv2d_17\n",
      "46 batch_normalization_14\n",
      "47 batch_normalization_17\n",
      "48 activation_14\n",
      "49 activation_17\n",
      "50 average_pooling2d_2\n",
      "51 conv2d_13\n",
      "52 conv2d_15\n",
      "53 conv2d_18\n",
      "54 conv2d_19\n",
      "55 batch_normalization_13\n",
      "56 batch_normalization_15\n",
      "57 batch_normalization_18\n",
      "58 batch_normalization_19\n",
      "59 activation_13\n",
      "60 activation_15\n",
      "61 activation_18\n",
      "62 activation_19\n",
      "63 mixed1\n",
      "64 conv2d_23\n",
      "65 batch_normalization_23\n",
      "66 activation_23\n",
      "67 conv2d_21\n",
      "68 conv2d_24\n",
      "69 batch_normalization_21\n",
      "70 batch_normalization_24\n",
      "71 activation_21\n",
      "72 activation_24\n",
      "73 average_pooling2d_3\n",
      "74 conv2d_20\n",
      "75 conv2d_22\n",
      "76 conv2d_25\n",
      "77 conv2d_26\n",
      "78 batch_normalization_20\n",
      "79 batch_normalization_22\n",
      "80 batch_normalization_25\n",
      "81 batch_normalization_26\n",
      "82 activation_20\n",
      "83 activation_22\n",
      "84 activation_25\n",
      "85 activation_26\n",
      "86 mixed2\n",
      "87 conv2d_28\n",
      "88 batch_normalization_28\n",
      "89 activation_28\n",
      "90 conv2d_29\n",
      "91 batch_normalization_29\n",
      "92 activation_29\n",
      "93 conv2d_27\n",
      "94 conv2d_30\n",
      "95 batch_normalization_27\n",
      "96 batch_normalization_30\n",
      "97 activation_27\n",
      "98 activation_30\n",
      "99 max_pooling2d_3\n",
      "100 mixed3\n",
      "101 conv2d_35\n",
      "102 batch_normalization_35\n",
      "103 activation_35\n",
      "104 conv2d_36\n",
      "105 batch_normalization_36\n",
      "106 activation_36\n",
      "107 conv2d_32\n",
      "108 conv2d_37\n",
      "109 batch_normalization_32\n",
      "110 batch_normalization_37\n",
      "111 activation_32\n",
      "112 activation_37\n",
      "113 conv2d_33\n",
      "114 conv2d_38\n",
      "115 batch_normalization_33\n",
      "116 batch_normalization_38\n",
      "117 activation_33\n",
      "118 activation_38\n",
      "119 average_pooling2d_4\n",
      "120 conv2d_31\n",
      "121 conv2d_34\n",
      "122 conv2d_39\n",
      "123 conv2d_40\n",
      "124 batch_normalization_31\n",
      "125 batch_normalization_34\n",
      "126 batch_normalization_39\n",
      "127 batch_normalization_40\n",
      "128 activation_31\n",
      "129 activation_34\n",
      "130 activation_39\n",
      "131 activation_40\n",
      "132 mixed4\n",
      "133 conv2d_45\n",
      "134 batch_normalization_45\n",
      "135 activation_45\n",
      "136 conv2d_46\n",
      "137 batch_normalization_46\n",
      "138 activation_46\n",
      "139 conv2d_42\n",
      "140 conv2d_47\n",
      "141 batch_normalization_42\n",
      "142 batch_normalization_47\n",
      "143 activation_42\n",
      "144 activation_47\n",
      "145 conv2d_43\n",
      "146 conv2d_48\n",
      "147 batch_normalization_43\n",
      "148 batch_normalization_48\n",
      "149 activation_43\n",
      "150 activation_48\n",
      "151 average_pooling2d_5\n",
      "152 conv2d_41\n",
      "153 conv2d_44\n",
      "154 conv2d_49\n",
      "155 conv2d_50\n",
      "156 batch_normalization_41\n",
      "157 batch_normalization_44\n",
      "158 batch_normalization_49\n",
      "159 batch_normalization_50\n",
      "160 activation_41\n",
      "161 activation_44\n",
      "162 activation_49\n",
      "163 activation_50\n",
      "164 mixed5\n",
      "165 conv2d_55\n",
      "166 batch_normalization_55\n",
      "167 activation_55\n",
      "168 conv2d_56\n",
      "169 batch_normalization_56\n",
      "170 activation_56\n",
      "171 conv2d_52\n",
      "172 conv2d_57\n",
      "173 batch_normalization_52\n",
      "174 batch_normalization_57\n",
      "175 activation_52\n",
      "176 activation_57\n",
      "177 conv2d_53\n",
      "178 conv2d_58\n",
      "179 batch_normalization_53\n",
      "180 batch_normalization_58\n",
      "181 activation_53\n",
      "182 activation_58\n",
      "183 average_pooling2d_6\n",
      "184 conv2d_51\n",
      "185 conv2d_54\n",
      "186 conv2d_59\n",
      "187 conv2d_60\n",
      "188 batch_normalization_51\n",
      "189 batch_normalization_54\n",
      "190 batch_normalization_59\n",
      "191 batch_normalization_60\n",
      "192 activation_51\n",
      "193 activation_54\n",
      "194 activation_59\n",
      "195 activation_60\n",
      "196 mixed6\n",
      "197 conv2d_65\n",
      "198 batch_normalization_65\n",
      "199 activation_65\n",
      "200 conv2d_66\n",
      "201 batch_normalization_66\n",
      "202 activation_66\n",
      "203 conv2d_62\n",
      "204 conv2d_67\n",
      "205 batch_normalization_62\n",
      "206 batch_normalization_67\n",
      "207 activation_62\n",
      "208 activation_67\n",
      "209 conv2d_63\n",
      "210 conv2d_68\n",
      "211 batch_normalization_63\n",
      "212 batch_normalization_68\n",
      "213 activation_63\n",
      "214 activation_68\n",
      "215 average_pooling2d_7\n",
      "216 conv2d_61\n",
      "217 conv2d_64\n",
      "218 conv2d_69\n",
      "219 conv2d_70\n",
      "220 batch_normalization_61\n",
      "221 batch_normalization_64\n",
      "222 batch_normalization_69\n",
      "223 batch_normalization_70\n",
      "224 activation_61\n",
      "225 activation_64\n",
      "226 activation_69\n",
      "227 activation_70\n",
      "228 mixed7\n",
      "229 conv2d_73\n",
      "230 batch_normalization_73\n",
      "231 activation_73\n",
      "232 conv2d_74\n",
      "233 batch_normalization_74\n",
      "234 activation_74\n",
      "235 conv2d_71\n",
      "236 conv2d_75\n",
      "237 batch_normalization_71\n",
      "238 batch_normalization_75\n",
      "239 activation_71\n",
      "240 activation_75\n",
      "241 conv2d_72\n",
      "242 conv2d_76\n",
      "243 batch_normalization_72\n",
      "244 batch_normalization_76\n",
      "245 activation_72\n",
      "246 activation_76\n",
      "247 max_pooling2d_4\n",
      "248 mixed8\n",
      "249 conv2d_81\n",
      "250 batch_normalization_81\n",
      "251 activation_81\n",
      "252 conv2d_78\n",
      "253 conv2d_82\n",
      "254 batch_normalization_78\n",
      "255 batch_normalization_82\n",
      "256 activation_78\n",
      "257 activation_82\n",
      "258 conv2d_79\n",
      "259 conv2d_80\n",
      "260 conv2d_83\n",
      "261 conv2d_84\n",
      "262 average_pooling2d_8\n",
      "263 conv2d_77\n",
      "264 batch_normalization_79\n",
      "265 batch_normalization_80\n",
      "266 batch_normalization_83\n",
      "267 batch_normalization_84\n",
      "268 conv2d_85\n",
      "269 batch_normalization_77\n",
      "270 activation_79\n",
      "271 activation_80\n",
      "272 activation_83\n",
      "273 activation_84\n",
      "274 batch_normalization_85\n",
      "275 activation_77\n",
      "276 mixed9_0\n",
      "277 concatenate_1\n",
      "278 activation_85\n",
      "279 mixed9\n",
      "280 conv2d_90\n",
      "281 batch_normalization_90\n",
      "282 activation_90\n",
      "283 conv2d_87\n",
      "284 conv2d_91\n",
      "285 batch_normalization_87\n",
      "286 batch_normalization_91\n",
      "287 activation_87\n",
      "288 activation_91\n",
      "289 conv2d_88\n",
      "290 conv2d_89\n",
      "291 conv2d_92\n",
      "292 conv2d_93\n",
      "293 average_pooling2d_9\n",
      "294 conv2d_86\n",
      "295 batch_normalization_88\n",
      "296 batch_normalization_89\n",
      "297 batch_normalization_92\n",
      "298 batch_normalization_93\n",
      "299 conv2d_94\n",
      "300 batch_normalization_86\n",
      "301 activation_88\n",
      "302 activation_89\n",
      "303 activation_92\n",
      "304 activation_93\n",
      "305 batch_normalization_94\n",
      "306 activation_86\n",
      "307 mixed9_1\n",
      "308 concatenate_2\n",
      "309 activation_94\n",
      "310 mixed10\n"
     ]
    }
   ],
   "source": [
    "'''\n",
    "Now, the top layers are well trained. We will freeze the bottom N layers and \n",
    "train the remaining top layers\n",
    "'''\n",
    "\n",
    "base_model = InceptionV3(weights='imagenet', include_top=False)\n",
    "\n",
    "# let's visualize layer names and layer indices to see how many layers\n",
    "# we should freeze:\n",
    "for i, layer in enumerate(base_model.layers):\n",
    "    print(i, layer.name)"
   ]
  },
  {
   "cell_type": "code",
   "execution_count": 7,
   "metadata": {},
   "outputs": [],
   "source": [
    "'''\n",
    "We chose to train the top 2 inception blocks, i.e. we will freeze the first \n",
    "249 layers and unfreeze the rest:\n",
    "'''\n",
    "\n",
    "for layer in custom_v3_model.layers[:249]:  # freeze the first 249 layers\n",
    "    layer.trainable = False\n",
    "for layer in custom_v3_model.layers[249:]:  # unfreeze the rest of the layers\n",
    "    layer.trainable = True"
   ]
  },
  {
   "cell_type": "code",
   "execution_count": 11,
   "metadata": {},
   "outputs": [],
   "source": [
    "'''\n",
    "We need to recompile the custom_v3_model for these modifications to take effect\n",
    "'''\n",
    "custom_v3_model.compile(loss = 'categorical_crossentropy',\n",
    "                        optimizer = rmsprop,\n",
    "                        metrics = ['accuracy'])"
   ]
  },
  {
   "cell_type": "code",
   "execution_count": 12,
   "metadata": {},
   "outputs": [],
   "source": [
    "# Build a tensorflow instant for callback\n",
    "tensorboard = TensorBoard(log_dir=r'log\\{}'.format(str(time.time())),\n",
    "                          batch_size = 8)  # batch size same as training and validation images\n"
   ]
  },
  {
   "cell_type": "code",
   "execution_count": 14,
   "metadata": {},
   "outputs": [
    {
     "name": "stdout",
     "output_type": "stream",
     "text": [
      "Epoch 1/5\n",
      "1002/1001 [==============================] - 1414s 1s/step - loss: 0.7607 - acc: 0.7339 - val_loss: 1.7643 - val_acc: 0.6670\n",
      "— val_f1: 0.114161 — val_precision: 0.104130 — val_recall 0.141057\n",
      "Epoch 2/5\n",
      "1002/1001 [==============================] - 1133s 1s/step - loss: 0.7537 - acc: 0.7353 - val_loss: 1.7496 - val_acc: 0.6675\n",
      "— val_f1: 0.114733 — val_precision: 0.113217 — val_recall 0.140988\n",
      "Epoch 3/5\n",
      "1002/1001 [==============================] - 1496s 1s/step - loss: 0.7609 - acc: 0.7345 - val_loss: 1.7560 - val_acc: 0.6660\n",
      "— val_f1: 0.113900 — val_precision: 0.103912 — val_recall 0.140732\n",
      "Epoch 4/5\n",
      "1002/1001 [==============================] - 1228s 1s/step - loss: 0.7489 - acc: 0.7322 - val_loss: 1.7701 - val_acc: 0.6665\n",
      "— val_f1: 0.112596 — val_precision: 0.094194 — val_recall 0.139935\n",
      "Epoch 5/5\n",
      "1002/1001 [==============================] - 1725s 2s/step - loss: 0.7434 - acc: 0.7368 - val_loss: 1.7688 - val_acc: 0.6660\n",
      "— val_f1: 0.113434 — val_precision: 0.104179 — val_recall 0.140191\n",
      "\n",
      "Time taken to fit InceptionV3 model with training data: 136.8225747982661 mins\n",
      "\n"
     ]
    }
   ],
   "source": [
    "'''\n",
    "We train our model again (this time fine-tuning the top 2 inception blocks\n",
    "alongside the top Dense layers\n",
    "'''\n",
    "\n",
    "start = time.time()\n",
    "hist = custom_v3_model.fit_generator(\n",
    "        train_generator,\n",
    "        steps_per_epoch = train_generator.samples / training_batch_size,\n",
    "        epochs = 5,\n",
    "        validation_data = validation_generator,\n",
    "        validation_steps = validation_generator.samples / validation_batch_size,\n",
    "        callbacks = [metric, tensorboard]) \n",
    "end = time.time()\n",
    "\n",
    "# check execution time to run V3 model fitting\n",
    "print('\\nTime taken to fit InceptionV3 model with training data: {} mins\\n'.format((end - start)/60))  "
   ]
  },
  {
   "cell_type": "code",
   "execution_count": 15,
   "metadata": {},
   "outputs": [
    {
     "name": "stdout",
     "output_type": "stream",
     "text": [
      "[INFO] loss=1.76182, accuracy: 66.65000%\n"
     ]
    }
   ],
   "source": [
    "'''\n",
    "Evaluates the model on a data generator\n",
    "gives out a measure of performance\n",
    "'''\n",
    "\n",
    "(loss, accuracy) = custom_v3_model.evaluate_generator(validation_generator, \n",
    "                                                      steps = validation_generator.samples // validation_batch_size)\n",
    "\n",
    "print(\"[INFO] loss={:.5f}, accuracy: {:.5f}%\".format(loss,accuracy * 100))\n"
   ]
  },
  {
   "cell_type": "code",
   "execution_count": 16,
   "metadata": {},
   "outputs": [],
   "source": [
    "# save the model into a single HDF5 file\n",
    "custom_v3_model.save(r'model\\model_5_5.h5')"
   ]
  },
  {
   "cell_type": "code",
   "execution_count": 17,
   "metadata": {},
   "outputs": [
    {
     "name": "stdout",
     "output_type": "stream",
     "text": [
      "Epoch 1/5\n",
      "1002/1001 [==============================] - 1190s 1s/step - loss: 0.7488 - acc: 0.7298 - val_loss: 1.7637 - val_acc: 0.6665\n",
      "— val_f1: 0.115859 — val_precision: 0.124758 — val_recall 0.141677\n",
      "Epoch 2/5\n",
      "1002/1001 [==============================] - 1721s 2s/step - loss: 0.7409 - acc: 0.7359 - val_loss: 1.7605 - val_acc: 0.6650\n",
      "— val_f1: 0.123920 — val_precision: 0.203985 — val_recall 0.146877\n",
      "Epoch 3/5\n",
      "1002/1001 [==============================] - 2160s 2s/step - loss: 0.7457 - acc: 0.7368 - val_loss: 1.7622 - val_acc: 0.6685\n",
      "— val_f1: 0.123320 — val_precision: 0.142397 — val_recall 0.146279\n",
      "Epoch 4/5\n",
      "1002/1001 [==============================] - 2451s 2s/step - loss: 0.7494 - acc: 0.7352 - val_loss: 1.7901 - val_acc: 0.6620\n",
      "— val_f1: 0.115632 — val_precision: 0.124588 — val_recall 0.141353\n",
      "Epoch 5/5\n",
      "1002/1001 [==============================] - 5943s 6s/step - loss: 0.7343 - acc: 0.7381 - val_loss: 1.7698 - val_acc: 0.6650\n",
      "— val_f1: 0.115849 — val_precision: 0.121003 — val_recall 0.141569\n",
      "\n",
      "Time taken to fit InceptionV3 model with training data: 248.43933549324672 mins\n",
      "\n"
     ]
    }
   ],
   "source": [
    "'''\n",
    "We train our model again (this time fine-tuning the top 2 inception blocks\n",
    "alongside the top Dense layers\n",
    "'''\n",
    "start = time.time()\n",
    "hist = custom_v3_model.fit_generator(\n",
    "        train_generator,\n",
    "        steps_per_epoch = train_generator.samples / training_batch_size,\n",
    "        epochs = 5,\n",
    "        validation_data = validation_generator,\n",
    "        validation_steps = validation_generator.samples / validation_batch_size,\n",
    "        callbacks = [metric, tensorboard]) \n",
    "end = time.time()\n",
    "\n",
    "# check execution time to run V3 model fitting\n",
    "print('\\nTime taken to fit InceptionV3 model with training data: {} mins\\n'.format((end - start)/60)) "
   ]
  },
  {
   "cell_type": "markdown",
   "metadata": {},
   "source": [
    "It looks like validation accuracy and training accuracy has yet to converge."
   ]
  },
  {
   "cell_type": "code",
   "execution_count": 18,
   "metadata": {},
   "outputs": [],
   "source": [
    "custom_v3_model.save(r'model\\model_5_10.h5')"
   ]
  },
  {
   "cell_type": "markdown",
   "metadata": {},
   "source": [
    "## Evaluation on the model"
   ]
  },
  {
   "cell_type": "code",
   "execution_count": 4,
   "metadata": {},
   "outputs": [],
   "source": [
    "model = load_model(r'model\\model_5_10.h5')"
   ]
  },
  {
   "cell_type": "code",
   "execution_count": 5,
   "metadata": {},
   "outputs": [],
   "source": [
    "# Evaluate model by data generator\n",
    "(loss, accuracy) = model.evaluate_generator(validation_generator)"
   ]
  },
  {
   "cell_type": "code",
   "execution_count": 6,
   "metadata": {},
   "outputs": [],
   "source": [
    "# Get predicted and true classes.\n",
    "predictions = model.predict_generator(validation_generator)\n",
    "predicted_classes = np.argmax(predictions, axis=1)\n",
    "true_classes = validation_generator.classes"
   ]
  },
  {
   "cell_type": "code",
   "execution_count": 7,
   "metadata": {},
   "outputs": [],
   "source": [
    "def plot_confusion_matrix(cm, classes,\n",
    "                          normalize=False,\n",
    "                          title='Confusion matrix',\n",
    "                          cmap=plt.cm.Blues):\n",
    "    \"\"\"\n",
    "    This function prints and plots the confusion matrix.\n",
    "    Normalization can be applied by setting `normalize=True`.\n",
    "    \"\"\"\n",
    "    if normalize:\n",
    "        cm = cm.astype('float') / cm.sum(axis=1)[:, np.newaxis]\n",
    "        print(\"Normalized confusion matrix\")\n",
    "    else:\n",
    "        print('Confusion matrix, without normalization')\n",
    "\n",
    "    print(cm)\n",
    "\n",
    "    plt.imshow(cm, interpolation='nearest', cmap=cmap)\n",
    "    plt.title(title)\n",
    "    plt.colorbar()\n",
    "    tick_marks = np.arange(len(classes))\n",
    "    #plt.xticks(tick_marks, classes, rotation=45) # Do not show class name in x-axis\n",
    "    plt.yticks(tick_marks, classes)\n",
    "\n",
    "    fmt = '.2f' if normalize else 'd'\n",
    "    thresh = cm.max() / 2.\n",
    "    for i, j in itertools.product(range(cm.shape[0]), range(cm.shape[1])):\n",
    "        plt.text(j, i, format(cm[i, j], fmt),\n",
    "                 horizontalalignment=\"center\",\n",
    "                 color=\"white\" if cm[i, j] > thresh else \"black\")\n",
    "\n",
    "    plt.ylabel('True label')\n",
    "    plt.xlabel('Predicted label')\n",
    "    plt.tight_layout()\n"
   ]
  },
  {
   "cell_type": "code",
   "execution_count": 8,
   "metadata": {},
   "outputs": [
    {
     "name": "stdout",
     "output_type": "stream",
     "text": [
      "Confusion matrix, without normalization\n",
      "[[   0    0    0    0   59    1    0]\n",
      " [   0    0    0    0   96    0    1]\n",
      " [   0    0    0    6  215    2    1]\n",
      " [   0    0    0    1   25    1    0]\n",
      " [   1    0    2    7 1294   10    6]\n",
      " [   0    0    0    2  241    2    1]\n",
      " [   0    0    0    0   29    0    0]]\n"
     ]
    },
    {
     "data": {
      "image/png": "[encoded data removed]",
      "text/plain": [
       "<Figure size 432x288 with 2 Axes>"
      ]
     },
     "metadata": {},
     "output_type": "display_data"
    }
   ],
   "source": [
    "# Refer this link: https://scikit-learn.org/stable/auto_examples/model_selection/plot_confusion_matrix.html\n",
    "confusion_mat = confusion_matrix(true_classes, predicted_classes)\n",
    "\n",
    "# Plot non-normalized confusion matrix\n",
    "plt.figure()\n",
    "\n",
    "plot_confusion_matrix(confusion_mat, \n",
    "                      classes=['Actinic keratoses','Basal cell carcinoma','Benign keratosis-like lesions',\n",
    "                                'Dermatofibroma','Melanocytic nevi','Melanoma', 'Vascular lesions'],\n",
    "                      title='Confusion matrix, without normalization')\n",
    "\n",
    "plt.show()\n"
   ]
  },
  {
   "cell_type": "markdown",
   "metadata": {},
   "source": [
    "=> Observed that 3 classes (**Actinic keratoses**,**Basal cell carcinoma**,**Benign keratosis-like lesions**) do not have any correct prediction. Which can actually being explained by low **f1-score (0.115849)**."
   ]
  }
 ],
 "metadata": {
  "kernelspec": {
   "display_name": "Python 3",
   "language": "python",
   "name": "python3"
  },
  "language_info": {
   "codemirror_mode": {
    "name": "ipython",
    "version": 3
   },
   "file_extension": ".py",
   "mimetype": "text/x-python",
   "name": "python",
   "nbconvert_exporter": "python",
   "pygments_lexer": "ipython3",
   "version": "3.6.3"
  }
 },
 "nbformat": 4,
 "nbformat_minor": 2
}
