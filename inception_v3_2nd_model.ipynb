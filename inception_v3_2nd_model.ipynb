{
 "cells": [
  {
   "cell_type": "markdown",
   "metadata": {},
   "source": [
    "# Building Skin cancer classification using transfer learning \n",
    "# (Inception V3)"
   ]
  },
  {
   "cell_type": "markdown",
   "metadata": {},
   "source": [
    "## Article reference\n",
    "\n",
    "- https://www.nature.com/articles/nature21056.epdf?author_access_token=8oxIcYWf5UNrNpHsUHd2StRgN0jAjWel9jnR3ZoTv0NXpMHRAJy8Qn10ys2O4tuPakXos4UhQAFZ750CsBNMMsISFHIKinKDMKjShCpHIlYPYUHhNzkn6pSnOCt0Ftf6&fbclid=IwAR3ySc4WozYU5qyZ6wU43PIzv2JioHtyHBnnr79fLagdP74sp7BOf_j-ynw\n"
   ]
  },
  {
   "cell_type": "code",
   "execution_count": 1,
   "metadata": {},
   "outputs": [
    {
     "name": "stderr",
     "output_type": "stream",
     "text": [
      "C:\\Users\\Admin\\Anaconda3\\lib\\site-packages\\h5py\\__init__.py:34: FutureWarning: Conversion of the second argument of issubdtype from `float` to `np.floating` is deprecated. In future, it will be treated as `np.float64 == np.dtype(float).type`.\n",
      "  from ._conv import register_converters as _register_converters\n",
      "Using TensorFlow backend.\n"
     ]
    }
   ],
   "source": [
    "# Basic library\n",
    "import matplotlib.pyplot as plt\n",
    "%matplotlib inline\n",
    "import numpy as np\n",
    "import pandas as pd\n",
    "import os\n",
    "from glob import glob\n",
    "from PIL import Image\n",
    "import itertools\n",
    "import time\n",
    "\n",
    "# Sklearn library\n",
    "from sklearn.metrics import confusion_matrix\n",
    "from sklearn import metrics\n",
    "from sklearn.utils.class_weight import compute_class_weight # For class imbalancing\n",
    "from sklearn.model_selection import train_test_split\n",
    "\n",
    "import keras\n",
    "from keras import backend as K\n",
    "from keras.layers.normalization import BatchNormalization\n",
    "\n",
    "from keras.optimizers import Adam\n",
    "from keras.preprocessing.image import ImageDataGenerator\n",
    "from keras.callbacks import ReduceLROnPlateau\n",
    "\n",
    "from keras.preprocessing import image\n",
    "\n",
    "# Import google inception v3 as pre-trained model for transfer learning\n",
    "from keras.applications.inception_v3 import InceptionV3\n",
    "from keras.applications.inception_v3 import preprocess_input\n",
    "\n",
    "# keras layer utilities\n",
    "from keras.layers import GlobalAveragePooling2D, Dense, Dropout, GlobalMaxPooling2D\n",
    "from keras.layers import Input\n",
    "from keras.models import Model\n",
    "from keras import optimizers\n",
    "from keras.regularizers import l2\n",
    "\n",
    "from keras.callbacks import TensorBoard\n",
    "from keras.models import load_model\n",
    "\n",
    "\n",
    "import warnings\n",
    "warnings.filterwarnings('ignore')\n",
    "\n",
    "np.random.seed(123)"
   ]
  },
  {
   "cell_type": "code",
   "execution_count": 2,
   "metadata": {},
   "outputs": [
    {
     "name": "stdout",
     "output_type": "stream",
     "text": [
      "[name: \"/device:CPU:0\"\n",
      "device_type: \"CPU\"\n",
      "memory_limit: 268435456\n",
      "locality {\n",
      "}\n",
      "incarnation: 14519677774397083402\n",
      ", name: \"/device:GPU:0\"\n",
      "device_type: \"GPU\"\n",
      "memory_limit: 1500636774\n",
      "locality {\n",
      "  bus_id: 1\n",
      "}\n",
      "incarnation: 15656117348654121559\n",
      "physical_device_desc: \"device: 0, name: GeForce 940MX, pci bus id: 0000:01:00.0, compute capability: 5.0\"\n",
      "]\n"
     ]
    }
   ],
   "source": [
    "from tensorflow.python.client import device_lib\n",
    "print(device_lib.list_local_devices())"
   ]
  },
  {
   "cell_type": "markdown",
   "metadata": {},
   "source": [
    "##### Data preparation"
   ]
  },
  {
   "cell_type": "code",
   "execution_count": 85,
   "metadata": {},
   "outputs": [],
   "source": [
    "base_skin_dir = r'.input'\n",
    "\n",
    "# Merging images from both folders HAM10000_images_part1.zip and HAM10000_images_part2.zip into one dictionary\n",
    "\n",
    "imageid_path_dict = {os.path.splitext(os.path.basename(x))[0]: x\n",
    "                     for x in glob(os.path.join(base_skin_dir, '*', '*.jpg'))}\n",
    "\n",
    "base_skin_dir = os.path.join('input')\n",
    "\n",
    "# This dictionary is useful for displaying more human-friendly labels later on\n",
    "\n",
    "lesion_type_dict = {\n",
    "    'nv': 'Melanocytic nevi',\n",
    "    'mel': 'Melanoma',\n",
    "    'bkl': 'Benign keratosis-like lesions ',\n",
    "    'bcc': 'Basal cell carcinoma',\n",
    "    'akiec': 'Actinic keratoses',\n",
    "    'vasc': 'Vascular lesions',\n",
    "    'df': 'Dermatofibroma'\n",
    "}\n",
    "\n",
    "\n",
    "skin_df = pd.read_csv(os.path.join(base_skin_dir, 'HAM10000_metadata.csv'))\n",
    "\n",
    "# Creating New Columns for better readability\n",
    "\n",
    "skin_df['path'] = skin_df['image_id'].map(imageid_path_dict.get)\n",
    "skin_df['cell_type'] = skin_df['dx'].map(lesion_type_dict.get) \n",
    "skin_df['cell_type_idx'] = pd.Categorical(skin_df['cell_type']).codes\n",
    "\n"
   ]
  },
  {
   "cell_type": "code",
   "execution_count": 86,
   "metadata": {},
   "outputs": [
    {
     "data": {
      "text/html": [
       "<div>\n",
       "<style>\n",
       "    .dataframe thead tr:only-child th {\n",
       "        text-align: right;\n",
       "    }\n",
       "\n",
       "    .dataframe thead th {\n",
       "        text-align: left;\n",
       "    }\n",
       "\n",
       "    .dataframe tbody tr th {\n",
       "        vertical-align: top;\n",
       "    }\n",
       "</style>\n",
       "<table border=\"1\" class=\"dataframe\">\n",
       "  <thead>\n",
       "    <tr style=\"text-align: right;\">\n",
       "      <th></th>\n",
       "      <th>lesion_id</th>\n",
       "      <th>image_id</th>\n",
       "      <th>dx</th>\n",
       "      <th>dx_type</th>\n",
       "      <th>age</th>\n",
       "      <th>sex</th>\n",
       "      <th>localization</th>\n",
       "      <th>path</th>\n",
       "      <th>cell_type</th>\n",
       "      <th>cell_type_idx</th>\n",
       "    </tr>\n",
       "  </thead>\n",
       "  <tbody>\n",
       "    <tr>\n",
       "      <th>0</th>\n",
       "      <td>HAM_0000118</td>\n",
       "      <td>ISIC_0027419</td>\n",
       "      <td>bkl</td>\n",
       "      <td>histo</td>\n",
       "      <td>80.0</td>\n",
       "      <td>male</td>\n",
       "      <td>scalp</td>\n",
       "      <td>None</td>\n",
       "      <td>Benign keratosis-like lesions</td>\n",
       "      <td>2</td>\n",
       "    </tr>\n",
       "    <tr>\n",
       "      <th>1</th>\n",
       "      <td>HAM_0000118</td>\n",
       "      <td>ISIC_0025030</td>\n",
       "      <td>bkl</td>\n",
       "      <td>histo</td>\n",
       "      <td>80.0</td>\n",
       "      <td>male</td>\n",
       "      <td>scalp</td>\n",
       "      <td>None</td>\n",
       "      <td>Benign keratosis-like lesions</td>\n",
       "      <td>2</td>\n",
       "    </tr>\n",
       "    <tr>\n",
       "      <th>2</th>\n",
       "      <td>HAM_0002730</td>\n",
       "      <td>ISIC_0026769</td>\n",
       "      <td>bkl</td>\n",
       "      <td>histo</td>\n",
       "      <td>80.0</td>\n",
       "      <td>male</td>\n",
       "      <td>scalp</td>\n",
       "      <td>None</td>\n",
       "      <td>Benign keratosis-like lesions</td>\n",
       "      <td>2</td>\n",
       "    </tr>\n",
       "    <tr>\n",
       "      <th>3</th>\n",
       "      <td>HAM_0002730</td>\n",
       "      <td>ISIC_0025661</td>\n",
       "      <td>bkl</td>\n",
       "      <td>histo</td>\n",
       "      <td>80.0</td>\n",
       "      <td>male</td>\n",
       "      <td>scalp</td>\n",
       "      <td>None</td>\n",
       "      <td>Benign keratosis-like lesions</td>\n",
       "      <td>2</td>\n",
       "    </tr>\n",
       "    <tr>\n",
       "      <th>4</th>\n",
       "      <td>HAM_0001466</td>\n",
       "      <td>ISIC_0031633</td>\n",
       "      <td>bkl</td>\n",
       "      <td>histo</td>\n",
       "      <td>75.0</td>\n",
       "      <td>male</td>\n",
       "      <td>ear</td>\n",
       "      <td>None</td>\n",
       "      <td>Benign keratosis-like lesions</td>\n",
       "      <td>2</td>\n",
       "    </tr>\n",
       "  </tbody>\n",
       "</table>\n",
       "</div>"
      ],
      "text/plain": [
       "     lesion_id      image_id   dx dx_type   age   sex localization  path  \\\n",
       "0  HAM_0000118  ISIC_0027419  bkl   histo  80.0  male        scalp  None   \n",
       "1  HAM_0000118  ISIC_0025030  bkl   histo  80.0  male        scalp  None   \n",
       "2  HAM_0002730  ISIC_0026769  bkl   histo  80.0  male        scalp  None   \n",
       "3  HAM_0002730  ISIC_0025661  bkl   histo  80.0  male        scalp  None   \n",
       "4  HAM_0001466  ISIC_0031633  bkl   histo  75.0  male          ear  None   \n",
       "\n",
       "                        cell_type  cell_type_idx  \n",
       "0  Benign keratosis-like lesions               2  \n",
       "1  Benign keratosis-like lesions               2  \n",
       "2  Benign keratosis-like lesions               2  \n",
       "3  Benign keratosis-like lesions               2  \n",
       "4  Benign keratosis-like lesions               2  "
      ]
     },
     "execution_count": 86,
     "metadata": {},
     "output_type": "execute_result"
    }
   ],
   "source": [
    "skin_df.head()"
   ]
  },
  {
   "cell_type": "code",
   "execution_count": 87,
   "metadata": {},
   "outputs": [
    {
     "data": {
      "text/plain": [
       "lesion_id            0\n",
       "image_id             0\n",
       "dx                   0\n",
       "dx_type              0\n",
       "age                 57\n",
       "sex                  0\n",
       "localization         0\n",
       "path             10015\n",
       "cell_type            0\n",
       "cell_type_idx        0\n",
       "dtype: int64"
      ]
     },
     "execution_count": 87,
     "metadata": {},
     "output_type": "execute_result"
    }
   ],
   "source": [
    "# Step 4 : Data Cleaning\n",
    "# In this step we check for Missing values and datatype of each field\n",
    "skin_df.isnull().sum()"
   ]
  },
  {
   "cell_type": "code",
   "execution_count": 89,
   "metadata": {},
   "outputs": [
    {
     "data": {
      "text/plain": [
       "lesion_id            0\n",
       "image_id             0\n",
       "dx                   0\n",
       "dx_type              0\n",
       "age                  0\n",
       "sex                  0\n",
       "localization         0\n",
       "path             10015\n",
       "cell_type            0\n",
       "cell_type_idx        0\n",
       "dtype: int64"
      ]
     },
     "execution_count": 89,
     "metadata": {},
     "output_type": "execute_result"
    }
   ],
   "source": [
    "# As it is evident from the above that only age has null values which is 57 so we will fill the null values by their mean.\n",
    "skin_df['age'].fillna((skin_df['age'].mean()), inplace=True)\n",
    "\n",
    "skin_df.isnull().sum()"
   ]
  },
  {
   "cell_type": "code",
   "execution_count": 90,
   "metadata": {},
   "outputs": [],
   "source": [
    "#skin_df['image'] = skin_df['path'].map(lambda x: np.asarray(Image.open(x).resize((299,299))))\n",
    "\n",
    "features=skin_df.drop('cell_type_idx',axis=1)\n",
    "target=skin_df['cell_type_idx']"
   ]
  },
  {
   "cell_type": "code",
   "execution_count": 91,
   "metadata": {},
   "outputs": [
    {
     "data": {
      "text/html": [
       "<div>\n",
       "<style>\n",
       "    .dataframe thead tr:only-child th {\n",
       "        text-align: right;\n",
       "    }\n",
       "\n",
       "    .dataframe thead th {\n",
       "        text-align: left;\n",
       "    }\n",
       "\n",
       "    .dataframe tbody tr th {\n",
       "        vertical-align: top;\n",
       "    }\n",
       "</style>\n",
       "<table border=\"1\" class=\"dataframe\">\n",
       "  <thead>\n",
       "    <tr style=\"text-align: right;\">\n",
       "      <th></th>\n",
       "      <th>dx</th>\n",
       "      <th>cell_type_idx</th>\n",
       "    </tr>\n",
       "  </thead>\n",
       "  <tbody>\n",
       "    <tr>\n",
       "      <th>0</th>\n",
       "      <td>bkl</td>\n",
       "      <td>2</td>\n",
       "    </tr>\n",
       "    <tr>\n",
       "      <th>64</th>\n",
       "      <td>nv</td>\n",
       "      <td>4</td>\n",
       "    </tr>\n",
       "    <tr>\n",
       "      <th>1095</th>\n",
       "      <td>df</td>\n",
       "      <td>3</td>\n",
       "    </tr>\n",
       "    <tr>\n",
       "      <th>1211</th>\n",
       "      <td>mel</td>\n",
       "      <td>5</td>\n",
       "    </tr>\n",
       "    <tr>\n",
       "      <th>2320</th>\n",
       "      <td>vasc</td>\n",
       "      <td>6</td>\n",
       "    </tr>\n",
       "    <tr>\n",
       "      <th>2462</th>\n",
       "      <td>bcc</td>\n",
       "      <td>1</td>\n",
       "    </tr>\n",
       "    <tr>\n",
       "      <th>9687</th>\n",
       "      <td>akiec</td>\n",
       "      <td>0</td>\n",
       "    </tr>\n",
       "  </tbody>\n",
       "</table>\n",
       "</div>"
      ],
      "text/plain": [
       "         dx  cell_type_idx\n",
       "0       bkl              2\n",
       "64       nv              4\n",
       "1095     df              3\n",
       "1211    mel              5\n",
       "2320   vasc              6\n",
       "2462    bcc              1\n",
       "9687  akiec              0"
      ]
     },
     "execution_count": 91,
     "metadata": {},
     "output_type": "execute_result"
    }
   ],
   "source": [
    "skin_df[['dx', 'cell_type_idx']].drop_duplicates(inplace=False)"
   ]
  },
  {
   "cell_type": "code",
   "execution_count": 5,
   "metadata": {},
   "outputs": [],
   "source": [
    "# Train test split\n",
    "x_train_o, x_test_o, y_train_o, y_test_o = train_test_split(\n",
    "        features, target, test_size=0.20,random_state=1234)"
   ]
  },
  {
   "cell_type": "markdown",
   "metadata": {},
   "source": [
    "##### Split images for usage in flow_from_directory "
   ]
  },
  {
   "cell_type": "code",
   "execution_count": 10,
   "metadata": {},
   "outputs": [
    {
     "name": "stdout",
     "output_type": "stream",
     "text": [
      "Done with moving in 104.954081s\n"
     ]
    }
   ],
   "source": [
    "# Split images for usage in flow_from_directory \n",
    "import shutil\n",
    "from time import time\n",
    "\n",
    "def images_mover(base_path, classes_list, images_path, images_class):\n",
    "    ''' create directories for the usage of keras flow_from_directory\n",
    "    Args\n",
    "    ====\n",
    "    base_path : \n",
    "    classes_list : (list) classes of current training data, folders will be created for each classes\n",
    "    images_path : (series) series that contains the path of all images\n",
    "    images_class : (series) series that contains the corresponding class for each images in images_path\n",
    "    \n",
    "    Returns\n",
    "    =======\n",
    "    None\n",
    "    \n",
    "    '''\n",
    "    for cl in classes_list:\n",
    "        os.mkdir(f'{base_path}/{cl}')\n",
    "    \n",
    "    t = time()\n",
    "    for idx,file in enumerate(images_path):\n",
    "        #print(file)\n",
    "        cl = images_class.iloc[idx]\n",
    "        new_dir = f'{base_path}/{cl}'\n",
    "        shutil.copy(file, new_dir)\n",
    "        #print(file+\" move to \"+ new_dir)\n",
    "        \n",
    "    print(\"Done with moving in %fs\"%(time()-t))\n",
    "\n",
    "os.mkdir('input/training')\n",
    "os.mkdir('input/testing')\n",
    "\n",
    "images_mover(base_path='input/training', classes_list=skin_df['cell_type_idx'].unique(),\n",
    "             images_path=x_train_o['path'], images_class=y_train_o)"
   ]
  },
  {
   "cell_type": "code",
   "execution_count": 11,
   "metadata": {},
   "outputs": [
    {
     "name": "stdout",
     "output_type": "stream",
     "text": [
      "Done with moving in 26.417501s\n"
     ]
    }
   ],
   "source": [
    "images_mover(base_path='input/testing', classes_list=skin_df['cell_type_idx'].unique(),\n",
    "             images_path=x_test_o['path'], images_class=y_test_o)"
   ]
  },
  {
   "cell_type": "markdown",
   "metadata": {},
   "source": [
    "## EDA"
   ]
  },
  {
   "cell_type": "code",
   "execution_count": 13,
   "metadata": {},
   "outputs": [
    {
     "data": {
      "text/html": [
       "<div>\n",
       "<style>\n",
       "    .dataframe thead tr:only-child th {\n",
       "        text-align: right;\n",
       "    }\n",
       "\n",
       "    .dataframe thead th {\n",
       "        text-align: left;\n",
       "    }\n",
       "\n",
       "    .dataframe tbody tr th {\n",
       "        vertical-align: top;\n",
       "    }\n",
       "</style>\n",
       "<table border=\"1\" class=\"dataframe\">\n",
       "  <thead>\n",
       "    <tr style=\"text-align: right;\">\n",
       "      <th></th>\n",
       "      <th>path</th>\n",
       "    </tr>\n",
       "    <tr>\n",
       "      <th>cell_type_idx</th>\n",
       "      <th></th>\n",
       "    </tr>\n",
       "  </thead>\n",
       "  <tbody>\n",
       "    <tr>\n",
       "      <th>0</th>\n",
       "      <td>327</td>\n",
       "    </tr>\n",
       "    <tr>\n",
       "      <th>1</th>\n",
       "      <td>514</td>\n",
       "    </tr>\n",
       "    <tr>\n",
       "      <th>2</th>\n",
       "      <td>1099</td>\n",
       "    </tr>\n",
       "    <tr>\n",
       "      <th>3</th>\n",
       "      <td>115</td>\n",
       "    </tr>\n",
       "    <tr>\n",
       "      <th>4</th>\n",
       "      <td>6705</td>\n",
       "    </tr>\n",
       "    <tr>\n",
       "      <th>5</th>\n",
       "      <td>1113</td>\n",
       "    </tr>\n",
       "    <tr>\n",
       "      <th>6</th>\n",
       "      <td>142</td>\n",
       "    </tr>\n",
       "  </tbody>\n",
       "</table>\n",
       "</div>"
      ],
      "text/plain": [
       "               path\n",
       "cell_type_idx      \n",
       "0               327\n",
       "1               514\n",
       "2              1099\n",
       "3               115\n",
       "4              6705\n",
       "5              1113\n",
       "6               142"
      ]
     },
     "execution_count": 13,
     "metadata": {},
     "output_type": "execute_result"
    }
   ],
   "source": [
    "skin_df.groupby('cell_type_idx').agg({\"path\":'count'})"
   ]
  },
  {
   "cell_type": "markdown",
   "metadata": {},
   "source": [
    "4th class have the most examples"
   ]
  },
  {
   "cell_type": "code",
   "execution_count": 14,
   "metadata": {},
   "outputs": [
    {
     "data": {
      "text/plain": [
       "(10015, 10)"
      ]
     },
     "execution_count": 14,
     "metadata": {},
     "output_type": "execute_result"
    }
   ],
   "source": [
    "skin_df.shape"
   ]
  },
  {
   "cell_type": "code",
   "execution_count": 93,
   "metadata": {},
   "outputs": [
    {
     "data": {
      "text/plain": [
       "<matplotlib.axes._subplots.AxesSubplot at 0x267a2edd6a0>"
      ]
     },
     "execution_count": 93,
     "metadata": {},
     "output_type": "execute_result"
    },
    {
     "data": {
      "image/png": "[encoded data removed]",
      "text/plain": [
       "<Figure size 432x288 with 1 Axes>"
      ]
     },
     "metadata": {},
     "output_type": "display_data"
    }
   ],
   "source": [
    "skin_df['age'].hist(bins=40)"
   ]
  },
  {
   "cell_type": "markdown",
   "metadata": {},
   "source": [
    "=> Larger instances of patients having age from 30 to 60."
   ]
  },
  {
   "cell_type": "markdown",
   "metadata": {},
   "source": [
    "## Building keras model\n",
    "\n",
    "Ref:\n",
    "https://github.com/hoang-ho/Skin_Lesions_Classification_DCNNs/blob/master/Fine_Tuning_InceptionV3.ipynb"
   ]
  },
  {
   "cell_type": "code",
   "execution_count": 2,
   "metadata": {},
   "outputs": [],
   "source": [
    "''' \n",
    "Image Augmentation --> instantiate generators of augmented image batches\n",
    "\n",
    "I followed the pre-processing technique from nature article, i.e. random rotation and random vertical flip.\n",
    "''' \n",
    "\n",
    "# image augmentation for training set\n",
    "train_datagen = image.ImageDataGenerator(rescale=1./255,\n",
    "                                         rotation_range = 359,\n",
    "                                         vertical_flip=True) # randomly flip images\n",
    "\n",
    "# image augmentation for validation set\n",
    "test_datagen = image.ImageDataGenerator(rescale=1./255)"
   ]
  },
  {
   "cell_type": "code",
   "execution_count": 3,
   "metadata": {},
   "outputs": [
    {
     "name": "stdout",
     "output_type": "stream",
     "text": [
      "Found 8012 images belonging to 7 classes.\n",
      "Found 2003 images belonging to 7 classes.\n"
     ]
    }
   ],
   "source": [
    "training_batch_size = 8\n",
    "validation_batch_size = 8\n",
    "\n",
    "train_generator = train_datagen.flow_from_directory(\n",
    "        r'input\\training',\n",
    "        target_size = (299, 299),\n",
    "        batch_size = training_batch_size,\n",
    "        class_mode = 'categorical')\n",
    "\n",
    "validation_generator = test_datagen.flow_from_directory(\n",
    "        r'input\\testing',\n",
    "        target_size = (299, 299),\n",
    "        batch_size = validation_batch_size,\n",
    "        class_mode = 'categorical')"
   ]
  },
  {
   "cell_type": "code",
   "execution_count": 4,
   "metadata": {},
   "outputs": [],
   "source": [
    "base_model = InceptionV3(weights='imagenet', include_top=False)"
   ]
  },
  {
   "cell_type": "code",
   "execution_count": 6,
   "metadata": {
    "scrolled": true
   },
   "outputs": [
    {
     "name": "stdout",
     "output_type": "stream",
     "text": [
      "input_2\n",
      "conv2d_95\n",
      "batch_normalization_95\n",
      "activation_95\n",
      "conv2d_96\n",
      "batch_normalization_96\n",
      "activation_96\n",
      "conv2d_97\n",
      "batch_normalization_97\n",
      "activation_97\n",
      "max_pooling2d_5\n",
      "conv2d_98\n",
      "batch_normalization_98\n",
      "activation_98\n",
      "conv2d_99\n",
      "batch_normalization_99\n",
      "activation_99\n",
      "max_pooling2d_6\n",
      "conv2d_103\n",
      "batch_normalization_103\n",
      "activation_103\n",
      "conv2d_101\n",
      "conv2d_104\n",
      "batch_normalization_101\n",
      "batch_normalization_104\n",
      "activation_101\n",
      "activation_104\n",
      "average_pooling2d_10\n",
      "conv2d_100\n",
      "conv2d_102\n",
      "conv2d_105\n",
      "conv2d_106\n",
      "batch_normalization_100\n",
      "batch_normalization_102\n",
      "batch_normalization_105\n",
      "batch_normalization_106\n",
      "activation_100\n",
      "activation_102\n",
      "activation_105\n",
      "activation_106\n",
      "mixed0\n",
      "conv2d_110\n",
      "batch_normalization_110\n",
      "activation_110\n",
      "conv2d_108\n",
      "conv2d_111\n",
      "batch_normalization_108\n",
      "batch_normalization_111\n",
      "activation_108\n",
      "activation_111\n",
      "average_pooling2d_11\n",
      "conv2d_107\n",
      "conv2d_109\n",
      "conv2d_112\n",
      "conv2d_113\n",
      "batch_normalization_107\n",
      "batch_normalization_109\n",
      "batch_normalization_112\n",
      "batch_normalization_113\n",
      "activation_107\n",
      "activation_109\n",
      "activation_112\n",
      "activation_113\n",
      "mixed1\n",
      "conv2d_117\n",
      "batch_normalization_117\n",
      "activation_117\n",
      "conv2d_115\n",
      "conv2d_118\n",
      "batch_normalization_115\n",
      "batch_normalization_118\n",
      "activation_115\n",
      "activation_118\n",
      "average_pooling2d_12\n",
      "conv2d_114\n",
      "conv2d_116\n",
      "conv2d_119\n",
      "conv2d_120\n",
      "batch_normalization_114\n",
      "batch_normalization_116\n",
      "batch_normalization_119\n",
      "batch_normalization_120\n",
      "activation_114\n",
      "activation_116\n",
      "activation_119\n",
      "activation_120\n",
      "mixed2\n",
      "conv2d_122\n",
      "batch_normalization_122\n",
      "activation_122\n",
      "conv2d_123\n",
      "batch_normalization_123\n",
      "activation_123\n",
      "conv2d_121\n",
      "conv2d_124\n",
      "batch_normalization_121\n",
      "batch_normalization_124\n",
      "activation_121\n",
      "activation_124\n",
      "max_pooling2d_7\n",
      "mixed3\n",
      "conv2d_129\n",
      "batch_normalization_129\n",
      "activation_129\n",
      "conv2d_130\n",
      "batch_normalization_130\n",
      "activation_130\n",
      "conv2d_126\n",
      "conv2d_131\n",
      "batch_normalization_126\n",
      "batch_normalization_131\n",
      "activation_126\n",
      "activation_131\n",
      "conv2d_127\n",
      "conv2d_132\n",
      "batch_normalization_127\n",
      "batch_normalization_132\n",
      "activation_127\n",
      "activation_132\n",
      "average_pooling2d_13\n",
      "conv2d_125\n",
      "conv2d_128\n",
      "conv2d_133\n",
      "conv2d_134\n",
      "batch_normalization_125\n",
      "batch_normalization_128\n",
      "batch_normalization_133\n",
      "batch_normalization_134\n",
      "activation_125\n",
      "activation_128\n",
      "activation_133\n",
      "activation_134\n",
      "mixed4\n",
      "conv2d_139\n",
      "batch_normalization_139\n",
      "activation_139\n",
      "conv2d_140\n",
      "batch_normalization_140\n",
      "activation_140\n",
      "conv2d_136\n",
      "conv2d_141\n",
      "batch_normalization_136\n",
      "batch_normalization_141\n",
      "activation_136\n",
      "activation_141\n",
      "conv2d_137\n",
      "conv2d_142\n",
      "batch_normalization_137\n",
      "batch_normalization_142\n",
      "activation_137\n",
      "activation_142\n",
      "average_pooling2d_14\n",
      "conv2d_135\n",
      "conv2d_138\n",
      "conv2d_143\n",
      "conv2d_144\n",
      "batch_normalization_135\n",
      "batch_normalization_138\n",
      "batch_normalization_143\n",
      "batch_normalization_144\n",
      "activation_135\n",
      "activation_138\n",
      "activation_143\n",
      "activation_144\n",
      "mixed5\n",
      "conv2d_149\n",
      "batch_normalization_149\n",
      "activation_149\n",
      "conv2d_150\n",
      "batch_normalization_150\n",
      "activation_150\n",
      "conv2d_146\n",
      "conv2d_151\n",
      "batch_normalization_146\n",
      "batch_normalization_151\n",
      "activation_146\n",
      "activation_151\n",
      "conv2d_147\n",
      "conv2d_152\n",
      "batch_normalization_147\n",
      "batch_normalization_152\n",
      "activation_147\n",
      "activation_152\n",
      "average_pooling2d_15\n",
      "conv2d_145\n",
      "conv2d_148\n",
      "conv2d_153\n",
      "conv2d_154\n",
      "batch_normalization_145\n",
      "batch_normalization_148\n",
      "batch_normalization_153\n",
      "batch_normalization_154\n",
      "activation_145\n",
      "activation_148\n",
      "activation_153\n",
      "activation_154\n",
      "mixed6\n",
      "conv2d_159\n",
      "batch_normalization_159\n",
      "activation_159\n",
      "conv2d_160\n",
      "batch_normalization_160\n",
      "activation_160\n",
      "conv2d_156\n",
      "conv2d_161\n",
      "batch_normalization_156\n",
      "batch_normalization_161\n",
      "activation_156\n",
      "activation_161\n",
      "conv2d_157\n",
      "conv2d_162\n",
      "batch_normalization_157\n",
      "batch_normalization_162\n",
      "activation_157\n",
      "activation_162\n",
      "average_pooling2d_16\n",
      "conv2d_155\n",
      "conv2d_158\n",
      "conv2d_163\n",
      "conv2d_164\n",
      "batch_normalization_155\n",
      "batch_normalization_158\n",
      "batch_normalization_163\n",
      "batch_normalization_164\n",
      "activation_155\n",
      "activation_158\n",
      "activation_163\n",
      "activation_164\n",
      "mixed7\n",
      "conv2d_167\n",
      "batch_normalization_167\n",
      "activation_167\n",
      "conv2d_168\n",
      "batch_normalization_168\n",
      "activation_168\n",
      "conv2d_165\n",
      "conv2d_169\n",
      "batch_normalization_165\n",
      "batch_normalization_169\n",
      "activation_165\n",
      "activation_169\n",
      "conv2d_166\n",
      "conv2d_170\n",
      "batch_normalization_166\n",
      "batch_normalization_170\n",
      "activation_166\n",
      "activation_170\n",
      "max_pooling2d_8\n",
      "mixed8\n",
      "conv2d_175\n",
      "batch_normalization_175\n",
      "activation_175\n",
      "conv2d_172\n",
      "conv2d_176\n",
      "batch_normalization_172\n",
      "batch_normalization_176\n",
      "activation_172\n",
      "activation_176\n",
      "conv2d_173\n",
      "conv2d_174\n",
      "conv2d_177\n",
      "conv2d_178\n",
      "average_pooling2d_17\n",
      "conv2d_171\n",
      "batch_normalization_173\n",
      "batch_normalization_174\n",
      "batch_normalization_177\n",
      "batch_normalization_178\n",
      "conv2d_179\n",
      "batch_normalization_171\n",
      "activation_173\n",
      "activation_174\n",
      "activation_177\n",
      "activation_178\n",
      "batch_normalization_179\n",
      "activation_171\n",
      "mixed9_0\n",
      "concatenate_3\n",
      "activation_179\n",
      "mixed9\n",
      "conv2d_184\n",
      "batch_normalization_184\n",
      "activation_184\n",
      "conv2d_181\n",
      "conv2d_185\n",
      "batch_normalization_181\n",
      "batch_normalization_185\n",
      "activation_181\n",
      "activation_185\n",
      "conv2d_182\n",
      "conv2d_183\n",
      "conv2d_186\n",
      "conv2d_187\n",
      "average_pooling2d_18\n",
      "conv2d_180\n",
      "batch_normalization_182\n",
      "batch_normalization_183\n",
      "batch_normalization_186\n",
      "batch_normalization_187\n",
      "conv2d_188\n",
      "batch_normalization_180\n",
      "activation_182\n",
      "activation_183\n",
      "activation_186\n",
      "activation_187\n",
      "batch_normalization_188\n",
      "activation_180\n",
      "mixed9_1\n",
      "concatenate_4\n",
      "activation_188\n",
      "mixed10\n",
      "311\n"
     ]
    }
   ],
   "source": [
    "\n",
    "for layer in base_model.layers:\n",
    "    print(layer.name)\n",
    "    if hasattr(layer, 'moving_mean') and hasattr(layer, 'moving_variance'):\n",
    "        layer.trainable = True\n",
    "        K.eval(K.update(layer.moving_mean, K.zeros_like(layer.moving_mean)))\n",
    "        K.eval(K.update(layer.moving_variance, K.zeros_like(layer.moving_variance)))\n",
    "    else:\n",
    "        layer.trainable = False\n",
    "\n",
    "print(len(base_model.layers))"
   ]
  },
  {
   "cell_type": "code",
   "execution_count": 5,
   "metadata": {},
   "outputs": [
    {
     "name": "stdout",
     "output_type": "stream",
     "text": [
      "last layer output shape: (None, None, None, 2048)\n"
     ]
    }
   ],
   "source": [
    "last_layer = base_model.get_layer('mixed10')\n",
    "print('last layer output shape:', last_layer.output_shape)\n",
    "last_output = last_layer.output"
   ]
  },
  {
   "cell_type": "code",
   "execution_count": 11,
   "metadata": {},
   "outputs": [],
   "source": [
    "# Flatten the output layer to 1 dimension\n",
    "x = GlobalMaxPooling2D()(last_output)\n",
    "# Add a fully connected layer with 512 hidden units and ReLU activation\n",
    "x = Dense(512, activation='relu')(x)\n",
    "# Add a dropout rate of 0.5\n",
    "x = Dropout(0.5)(x)\n",
    "# Add a final sigmoid layer for classification\n",
    "x = Dense(7, activation='softmax')(x)\n",
    "\n",
    "# Configure and compile the model\n",
    "\n",
    "model = Model(base_model.input, x)\n",
    "optimizer = Adam(lr=0.0001, beta_1=0.9, beta_2=0.999, epsilon=None, decay=0.0, amsgrad=True)\n",
    "model.compile(loss='categorical_crossentropy',\n",
    "              optimizer=optimizer,\n",
    "              metrics=['accuracy'])"
   ]
  },
  {
   "cell_type": "code",
   "execution_count": 7,
   "metadata": {},
   "outputs": [],
   "source": [
    "# Custom mertrics to calculate f1-score, recall, and precision after each epoch\n",
    "class Metrics(keras.callbacks.Callback):\n",
    "    def on_train_begin(self, logs={}):\n",
    "        self.val_f1s = []\n",
    "        \n",
    "        self.val_recalls = []\n",
    "        self.val_precisions = []\n",
    "\n",
    "    def on_epoch_end(self, epoch, logs={}):\n",
    "        test_steps_per_epoch = np.math.ceil(validation_generator.samples / validation_generator.batch_size)\n",
    "        predictions = self.model.predict_generator(validation_generator, steps=test_steps_per_epoch)\n",
    "        # Get most likely class\n",
    "        predicted_classes = np.argmax(predictions, axis=1)\n",
    "        true_classes = validation_generator.classes\n",
    "        class_labels = list(validation_generator.class_indices.keys())   \n",
    "\n",
    "        #report = metrics.f1_score(true_classes, predicted_classes)\n",
    "        precisions, recall, f1_score, _ = metrics.precision_recall_fscore_support(\n",
    "                                            true_classes, predicted_classes)\n",
    "        _val_f1 = np.mean(f1_score)\n",
    "        _val_recall = np.mean(recall)\n",
    "        _val_precision = np.mean(precisions)\n",
    "        \n",
    "        self.val_f1s.append(_val_f1)\n",
    "        self.val_recalls.append(_val_recall)\n",
    "        self.val_precisions.append(_val_precision)\n",
    "        \n",
    "        print(\"— val_f1: %f — val_precision: %f — val_recall %f\" %(_val_f1, _val_precision, _val_recall))\n",
    "        return\n",
    "\n",
    "# Create an instant\n",
    "metric = Metrics()"
   ]
  },
  {
   "cell_type": "code",
   "execution_count": 13,
   "metadata": {},
   "outputs": [
    {
     "name": "stdout",
     "output_type": "stream",
     "text": [
      "Epoch 1/3\n",
      "1001/1001 [==============================] - 11129s 11s/step - loss: 1.3399 - acc: 0.6359 - val_loss: 1.0636 - val_acc: 0.6620\n",
      "— val_f1: 0.114560 — val_precision: 0.101040 — val_recall 0.140886\n",
      "Epoch 2/3\n",
      "1001/1001 [==============================] - 3012s 3s/step - loss: 1.0710 - acc: 0.6675 - val_loss: 0.9908 - val_acc: 0.6637\n",
      "— val_f1: 0.114403 — val_precision: 0.105150 — val_recall 0.142521\n",
      "Epoch 3/3\n",
      "1001/1001 [==============================] - 4460s 4s/step - loss: 1.0243 - acc: 0.6697 - val_loss: 0.9692 - val_acc: 0.6612\n",
      "— val_f1: 0.117462 — val_precision: 0.108139 — val_recall 0.141717\n"
     ]
    }
   ],
   "source": [
    "epochs = 3\n",
    "\n",
    "history = model.fit_generator(train_generator,\n",
    "                              epochs = epochs, \n",
    "                              validation_data = validation_generator,\n",
    "                              verbose = 1, \n",
    "                              steps_per_epoch = tra\n",
    "                              in_generator.samples // training_batch_size,\n",
    "                              validation_steps = validation_generator.samples // validation_batch_size,\n",
    "                              #class_weight=class_weight,\n",
    "                              callbacks=[metric]                         \n",
    "                             )"
   ]
  },
  {
   "cell_type": "code",
   "execution_count": 14,
   "metadata": {},
   "outputs": [],
   "source": [
    "model.save(r'model\\modelV2_first_3_epo.h5')"
   ]
  },
  {
   "cell_type": "code",
   "execution_count": 8,
   "metadata": {},
   "outputs": [],
   "source": [
    "model = load_model(r'model\\modelV2_first_3_epo.h5')"
   ]
  },
  {
   "cell_type": "code",
   "execution_count": 9,
   "metadata": {},
   "outputs": [],
   "source": [
    "for layer in base_model.layers[249:]:\n",
    "    layer.trainable = True"
   ]
  },
  {
   "cell_type": "code",
   "execution_count": 10,
   "metadata": {},
   "outputs": [],
   "source": [
    "optimizer = Adam(lr=0.0001, beta_1=0.9, beta_2=0.999, epsilon=None, decay=0.0, amsgrad=False)\n",
    "model.compile(loss='categorical_crossentropy',\n",
    "              optimizer=optimizer,\n",
    "              metrics=['acc'])"
   ]
  },
  {
   "cell_type": "code",
   "execution_count": 11,
   "metadata": {},
   "outputs": [],
   "source": [
    "learning_rate_reduction = ReduceLROnPlateau(monitor='val_acc', patience=3, verbose=1, factor=0.5, \n",
    "                                            min_lr=0.000001, cooldown=2)"
   ]
  },
  {
   "cell_type": "code",
   "execution_count": 12,
   "metadata": {},
   "outputs": [
    {
     "name": "stdout",
     "output_type": "stream",
     "text": [
      "Epoch 1/5\n",
      "1001/1001 [==============================] - 3002s 3s/step - loss: 1.0145 - acc: 0.6686 - val_loss: 0.9207 - val_acc: 0.6795\n",
      "— val_f1: 0.127131 — val_precision: 0.131175 — val_recall 0.140755\n",
      "Epoch 2/5\n",
      "1001/1001 [==============================] - 2916s 3s/step - loss: 0.9748 - acc: 0.6802 - val_loss: 0.8995 - val_acc: 0.6782\n",
      "— val_f1: 0.126912 — val_precision: 0.113783 — val_recall 0.145922\n",
      "Epoch 3/5\n",
      "1001/1001 [==============================] - 2918s 3s/step - loss: 0.9583 - acc: 0.6782 - val_loss: 0.8823 - val_acc: 0.6762\n",
      "— val_f1: 0.123738 — val_precision: 0.111917 — val_recall 0.143850\n",
      "Epoch 4/5\n",
      "1001/1001 [==============================] - 2919s 3s/step - loss: 0.9328 - acc: 0.6888 - val_loss: 0.8728 - val_acc: 0.6827\n",
      "— val_f1: 0.121158 — val_precision: 0.109101 — val_recall 0.141504\n",
      "Epoch 5/5\n",
      "1001/1001 [==============================] - 2796s 3s/step - loss: 0.9350 - acc: 0.6823 - val_loss: 0.8748 - val_acc: 0.6862\n",
      "— val_f1: 0.126880 — val_precision: 0.117224 — val_recall 0.143572\n"
     ]
    }
   ],
   "source": [
    "batch_size = 8\n",
    "epochs = 5\n",
    "history = model.fit_generator(train_generator,\n",
    "                              epochs = epochs, \n",
    "                              validation_data = validation_generator,\n",
    "                              verbose = 1, \n",
    "                              steps_per_epoch=train_generator.samples // training_batch_size,\n",
    "                              validation_steps=validation_generator.samples // validation_batch_size,\n",
    "                              callbacks=[metric, learning_rate_reduction])"
   ]
  },
  {
   "cell_type": "code",
   "execution_count": 13,
   "metadata": {},
   "outputs": [],
   "source": [
    "model.save(r'model\\modelV2_3_5_epo.h5')"
   ]
  },
  {
   "cell_type": "code",
   "execution_count": 14,
   "metadata": {},
   "outputs": [],
   "source": [
    "model = load_model(r'model\\modelV2_3_5_epo.h5')"
   ]
  },
  {
   "cell_type": "code",
   "execution_count": 15,
   "metadata": {},
   "outputs": [
    {
     "name": "stdout",
     "output_type": "stream",
     "text": [
      "Epoch 1/5\n",
      "1001/1001 [==============================] - 1706s 2s/step - loss: 0.9320 - acc: 0.6838 - val_loss: 0.8550 - val_acc: 0.6765\n",
      "— val_f1: 0.124408 — val_precision: 0.114059 — val_recall 0.144608\n",
      "Epoch 2/5\n",
      "1001/1001 [==============================] - 2330s 2s/step - loss: 0.9056 - acc: 0.6881 - val_loss: 0.8587 - val_acc: 0.6807\n",
      "— val_f1: 0.123616 — val_precision: 0.111708 — val_recall 0.143298\n",
      "Epoch 3/5\n",
      "1001/1001 [==============================] - 1641s 2s/step - loss: 0.9001 - acc: 0.6906 - val_loss: 0.8183 - val_acc: 0.6957\n",
      "— val_f1: 0.124427 — val_precision: 0.124245 — val_recall 0.141717\n",
      "Epoch 4/5\n",
      "1001/1001 [==============================] - 1933s 2s/step - loss: 0.8785 - acc: 0.6978 - val_loss: 0.8041 - val_acc: 0.7063\n",
      "— val_f1: 0.119032 — val_precision: 0.107950 — val_recall 0.134049\n",
      "Epoch 5/5\n",
      "1001/1001 [==============================] - 2580s 3s/step - loss: 0.8792 - acc: 0.6968 - val_loss: 0.8004 - val_acc: 0.7043\n",
      "— val_f1: 0.136866 — val_precision: 0.151074 — val_recall 0.152981\n"
     ]
    }
   ],
   "source": [
    "# Train model for 5 more epochs\n",
    "batch_size = 8\n",
    "epochs = 5\n",
    "history = model.fit_generator(train_generator,\n",
    "                              epochs = epochs, \n",
    "                              validation_data = validation_generator,\n",
    "                              verbose = 1, \n",
    "                              steps_per_epoch=train_generator.samples // training_batch_size,\n",
    "                              validation_steps=validation_generator.samples // validation_batch_size,\n",
    "                              callbacks=[metric, learning_rate_reduction])"
   ]
  },
  {
   "cell_type": "code",
   "execution_count": 16,
   "metadata": {},
   "outputs": [
    {
     "name": "stdout",
     "output_type": "stream",
     "text": [
      "Epoch 1/5\n",
      "1001/1001 [==============================] - 1440s 1s/step - loss: 0.8678 - acc: 0.6993 - val_loss: 0.7875 - val_acc: 0.7060\n",
      "— val_f1: 0.120742 — val_precision: 0.121300 — val_recall 0.133153\n",
      "Epoch 2/5\n",
      "1001/1001 [==============================] - 1238s 1s/step - loss: 0.8492 - acc: 0.6996 - val_loss: 0.7822 - val_acc: 0.7058\n",
      "— val_f1: 0.123404 — val_precision: 0.112520 — val_recall 0.139313\n",
      "Epoch 3/5\n",
      "1001/1001 [==============================] - 1218s 1s/step - loss: 0.8468 - acc: 0.7057 - val_loss: 0.7799 - val_acc: 0.7098\n",
      "— val_f1: 0.128372 — val_precision: 0.119163 — val_recall 0.143878\n",
      "Epoch 4/5\n",
      "1001/1001 [==============================] - 2181s 2s/step - loss: 0.8467 - acc: 0.7019 - val_loss: 0.7718 - val_acc: 0.7048\n",
      "— val_f1: 0.129906 — val_precision: 0.120689 — val_recall 0.145849\n",
      "Epoch 5/5\n",
      "1001/1001 [==============================] - 1673s 2s/step - loss: 0.8262 - acc: 0.7069 - val_loss: 0.7796 - val_acc: 0.7218\n",
      "— val_f1: 0.128051 — val_precision: 0.125481 — val_recall 0.139756\n"
     ]
    }
   ],
   "source": [
    "# Train model on another 5 more epochs, in total 13 epochs.\n",
    "batch_size = 8\n",
    "epochs = 5\n",
    "history = model.fit_generator(train_generator,\n",
    "                              epochs = epochs, \n",
    "                              validation_data = validation_generator,\n",
    "                              verbose = 1, \n",
    "                              steps_per_epoch=train_generator.samples // training_batch_size,\n",
    "                              validation_steps=validation_generator.samples // validation_batch_size,\n",
    "                              callbacks=[metric, learning_rate_reduction])"
   ]
  },
  {
   "cell_type": "code",
   "execution_count": 94,
   "metadata": {},
   "outputs": [],
   "source": [
    "model.save(r'model\\modelV2_3_10_epo.h5')"
   ]
  },
  {
   "cell_type": "markdown",
   "metadata": {},
   "source": [
    "## Evaluation on the model"
   ]
  },
  {
   "cell_type": "code",
   "execution_count": 22,
   "metadata": {},
   "outputs": [],
   "source": [
    "# Evaluate model by data generator\n",
    "(loss, accuracy) = model.evaluate_generator(validation_generator)"
   ]
  },
  {
   "cell_type": "code",
   "execution_count": 26,
   "metadata": {},
   "outputs": [
    {
     "name": "stdout",
     "output_type": "stream",
     "text": [
      "[INFO] loss=0.78287, accuracy: 71.94209%\n"
     ]
    }
   ],
   "source": [
    "print(\"[INFO] loss={:.5f}, accuracy: {:.5f}%\".format(loss,accuracy * 100))"
   ]
  },
  {
   "cell_type": "code",
   "execution_count": 37,
   "metadata": {},
   "outputs": [],
   "source": [
    "# Get predicted and true classes.\n",
    "predictions = model.predict_generator(validation_generator)\n",
    "predicted_classes = np.argmax(predictions, axis=1)\n",
    "true_classes = validation_generator.classes"
   ]
  },
  {
   "cell_type": "code",
   "execution_count": 67,
   "metadata": {},
   "outputs": [],
   "source": [
    "def plot_confusion_matrix(cm, classes,\n",
    "                          normalize=False,\n",
    "                          title='Confusion matrix',\n",
    "                          cmap=plt.cm.Blues):\n",
    "    \"\"\"\n",
    "    This function prints and plots the confusion matrix.\n",
    "    Normalization can be applied by setting `normalize=True`.\n",
    "    \"\"\"\n",
    "    if normalize:\n",
    "        cm = cm.astype('float') / cm.sum(axis=1)[:, np.newaxis]\n",
    "        print(\"Normalized confusion matrix\")\n",
    "    else:\n",
    "        print('Confusion matrix, without normalization')\n",
    "\n",
    "    print(cm)\n",
    "\n",
    "    plt.imshow(cm, interpolation='nearest', cmap=cmap)\n",
    "    plt.title(title)\n",
    "    plt.colorbar()\n",
    "    tick_marks = np.arange(len(classes))\n",
    "    #plt.xticks(tick_marks, classes, rotation=45) # Do not show class name in x-axis\n",
    "    plt.yticks(tick_marks, classes)\n",
    "\n",
    "    fmt = '.2f' if normalize else 'd'\n",
    "    thresh = cm.max() / 2.\n",
    "    for i, j in itertools.product(range(cm.shape[0]), range(cm.shape[1])):\n",
    "        plt.text(j, i, format(cm[i, j], fmt),\n",
    "                 horizontalalignment=\"center\",\n",
    "                 color=\"white\" if cm[i, j] > thresh else \"black\")\n",
    "\n",
    "    plt.ylabel('True label')\n",
    "    plt.xlabel('Predicted label')\n",
    "    plt.tight_layout()\n"
   ]
  },
  {
   "cell_type": "code",
   "execution_count": 68,
   "metadata": {},
   "outputs": [
    {
     "name": "stdout",
     "output_type": "stream",
     "text": [
      "Confusion matrix, without normalization\n",
      "[[   0    1   10    0   48    1    0]\n",
      " [   0    6   13    0   76    2    0]\n",
      " [   0   11   20    0  190    2    1]\n",
      " [   0    3    3    0   21    0    0]\n",
      " [   0   59  211    0 1029   18    3]\n",
      " [   0   15   37    0  188    5    1]\n",
      " [   0    4    6    0   18    1    0]]\n"
     ]
    },
    {
     "data": {
      "image/png": "[encoded data removed]",
      "text/plain": [
       "<Figure size 640x480 with 2 Axes>"
      ]
     },
     "metadata": {},
     "output_type": "display_data"
    }
   ],
   "source": [
    "# Refer this link: https://scikit-learn.org/stable/auto_examples/model_selection/plot_confusion_matrix.html\n",
    "confusion_mat = confusion_matrix(true_classes, predicted_classes)\n",
    "\n",
    "# Plot non-normalized confusion matrix\n",
    "plt.figure()\n",
    "\n",
    "plot_confusion_matrix(confusion_mat, \n",
    "                      classes=['Actinic keratoses','Basal cell carcinoma','Benign keratosis-like lesions',\n",
    "                                'Dermatofibroma','Melanocytic nevi','Melanoma', 'Vascular lesions'],\n",
    "                      title='Confusion matrix, without normalization')\n",
    "\n",
    "plt.show()\n"
   ]
  },
  {
   "cell_type": "markdown",
   "metadata": {},
   "source": [
    "=> Even though the accuracy seems quite good, but from the confusion matrix we can see that none instances of class **Artinic keratoses** and **Dermatofibroma** have been predicted correctly. Which can be suggested by the **low value of f1 score** (around **0.128**). Hence, accuracy is really **NOT** a good indicator in this problem. It is suspected that, the highly imbalaced dataset that made the classfier fail to learn the features of the class with extremely low training example. I should consider another way that could improve the f1 score, for example, solving the class imbalancing issue (by adjusting the weight of each class or resample the dataset before putting them into training)."
   ]
  },
  {
   "cell_type": "code",
   "execution_count": 34,
   "metadata": {},
   "outputs": [
    {
     "data": {
      "image/png": "[encoded data removed]",
      "text/plain": [
       "<Figure size 560x400 with 1 Axes>"
      ]
     },
     "metadata": {},
     "output_type": "display_data"
    }
   ],
   "source": [
    "# visualizing losses for the last five epochs\n",
    "train_loss=history.history['loss']\n",
    "val_loss=history.history['val_loss']\n",
    "train_acc=history.history['acc']\n",
    "val_acc=history.history['val_acc']\n",
    "xc=range(1,6)\n",
    "\n",
    "plt.figure(1,figsize=(7,5))\n",
    "plt.plot(xc,train_loss)\n",
    "plt.plot(xc,val_loss)\n",
    "plt.xlabel('num of Epochs')\n",
    "plt.ylabel('loss')\n",
    "plt.title('train_loss vs val_loss')\n",
    "plt.grid(True)\n",
    "plt.legend(['train','val'])\n",
    "plt.style.use(['classic'])\n",
    "plt.show()\n",
    "\n"
   ]
  },
  {
   "cell_type": "code",
   "execution_count": 35,
   "metadata": {},
   "outputs": [
    {
     "data": {
      "image/png": "[encoded data removed]",
      "text/plain": [
       "<Figure size 560x400 with 1 Axes>"
      ]
     },
     "metadata": {},
     "output_type": "display_data"
    }
   ],
   "source": [
    "# visualizing accuracy for the last five epochs\n",
    "\n",
    "plt.figure(2,figsize=(7,5))\n",
    "plt.plot(xc,train_acc)\n",
    "plt.plot(xc,val_acc)\n",
    "plt.xlabel('num of Epochs')\n",
    "plt.ylabel('accuracy')\n",
    "plt.title('train_acc vs val_acc')\n",
    "plt.grid(True)\n",
    "plt.legend(['train','val'],loc=4)\n",
    "#print plt.style.available # use bmh, classic,ggplot for big pictures\n",
    "plt.style.use(['classic'])\n",
    "plt.show()"
   ]
  },
  {
   "cell_type": "markdown",
   "metadata": {},
   "source": [
    "-------------------------------------END"
   ]
  }
 ],
 "metadata": {
  "kernelspec": {
   "display_name": "Python 3",
   "language": "python",
   "name": "python3"
  },
  "language_info": {
   "codemirror_mode": {
    "name": "ipython",
    "version": 3
   },
   "file_extension": ".py",
   "mimetype": "text/x-python",
   "name": "python",
   "nbconvert_exporter": "python",
   "pygments_lexer": "ipython3",
   "version": "3.6.3"
  }
 },
 "nbformat": 4,
 "nbformat_minor": 2
}
